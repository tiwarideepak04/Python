{
 "cells": [
  {
   "cell_type": "markdown",
   "metadata": {},
   "source": [
    "# <center>Introduction to Programming – Mini Project:</center>\n"
   ]
  },
  {
   "cell_type": "raw",
   "metadata": {},
   "source": [
    "# Problem 1:\n",
    "\n",
    "1. Write a program to calculate area of shapes. Your program should be capable of calculating the area of a square, rectangle, triangle and a circle. The user should be presented with options to select the shape. Based on which shape is chosed by the user, the program should ask for the appropriate input and print the resulting area on the screen.\n",
    "\n",
    "When the program is run, the screen should display something like this:\n",
    "\n",
    "**Which shape would you like to calculate the area for? Please enter the option number-**<br>\n",
    "**1. Square**<br>\n",
    "**2. Rectangle**<br>\n",
    "**3. Triangle**<br>\n",
    "**4. Circle**<br>\n",
    "**Enter Option: _**\n",
    "\n",
    "Say the user enters the option 1.\n",
    "\n",
    "**Please enter the length of a side: _**\n",
    "\n",
    "If the user enters a value of 5. The output should be:\n",
    "\n",
    "**The area of the square is 25**\n",
    "\n",
    "This program should indicate that the input is invalid if the user enters a character instead of a number as input. For instance if the user enters a value of ‘a’ instead of 5 in the previous example the program should prompt:\n",
    "\n",
    "**Invalid input, please enter a number: _**\n"
   ]
  },
  {
   "cell_type": "code",
   "execution_count": 8,
   "metadata": {},
   "outputs": [
    {
     "name": "stdout",
     "output_type": "stream",
     "text": [
      "1. Square\n",
      "2. Rectangle\n",
      "3. Triangle\n",
      "4. Circle\n",
      "Which shape would you like to calculate the area for? Please enter the option number-2\n",
      "put the length of rec :7\n",
      "put the breadth of rec :5\n",
      "The area of the rectangle is :  35.0\n"
     ]
    }
   ],
   "source": [
    "    print(\"1. Square\")\n",
    "    print(\"2. Rectangle\")\n",
    "    print(\"3. Triangle\")\n",
    "    print(\"4. Circle\")\n",
    "    while True:\n",
    "        try:\n",
    "            a= int(input(\"Which shape would you like to calculate the area for? Please enter the option number-\"))\n",
    "        except ValueError:\n",
    "            print(\"please enter a digit less than 5\")\n",
    "            continue\n",
    "            \n",
    "        if a>=5:\n",
    "            print(\"please enter a number less than 5:\")\n",
    "            continue\n",
    "        else:\n",
    "            break\n",
    "        \n",
    "    if a==1:\n",
    "        side_of_square=float(input(\"put the side of square :\"))\n",
    "        c=side_of_square**2\n",
    "        print(\"The area of the square is:\",c)\n",
    "    elif a==2:\n",
    "        length_of_rec=float(input(\"put the length of rec :\"))\n",
    "        breadth_of_rec=float(input(\"put the breadth of rec :\"))\n",
    "        d=length_of_rec*breadth_of_rec\n",
    "        print(\"The area of the rectangle is : \",d)\n",
    "    elif a==3:\n",
    "        side_tri1=float(input(\"put the side 1 of triangle : \"))\n",
    "        side_tri2=float(input(\"put the side 2 of triangle :\"))\n",
    "        side_tri3=float(input(\"put the side 3 of triangle :\"))\n",
    "        s=(side_tri1+side_tri3+side_tri3)/2\n",
    "        at=(s*(s-side_tri1)*(s-side_tri2)*(s-side_tri3))**(1/2)\n",
    "        print(\"The area of the triangle is :\",at)\n",
    "    elif a==4:\n",
    "        radius_of_circle=float(input(\"put thr radius of circle : \"))\n",
    "        h=((radius_of_circle**2)*3.14)\n",
    "        print(\"The area of the square is :\",h)"
   ]
  },
  {
   "cell_type": "markdown",
   "metadata": {},
   "source": [
    "### Problem 2:\n",
    "\n",
    "Create and encrypter in python based on the ceaser cipher. It is a substitution cipher where each character of the original text is shifted a certain number characters in the alphabet. Write a function that would require 2 arguments – the input text to be encrypted and a key. For eg: Given the input text ‘hello’ and the key 3, the resulting encryted text would be ‘khoor’. Here you can see that every character in the string hello is shifted by 3 characters. ‘h’ has shifted to ‘k’, ‘e’ has shifted to ‘h’ and so on. If a key of 5 were used, the resulting string would be ‘mjqqt’. This function should be capable of ignoring any characters which are not alphabets. Th2 character ‘z’ entered b\n",
    "y the user for a key of 3 would result in ‘c’.\n",
    "\n",
    "Usage:<br>\n",
    "**encrypt(‘hello world!’, 3)**<br>\n",
    "**‘khoor zruog!’**\n",
    "\n",
    "Similarly create decrypter which can decode the encryted text when provided the input text and key\n",
    "\n",
    "Usage:<br>\n",
    "**decrypt(‘khoor zruog!’, 3)**<br>\n",
    "**‘hello world!’**\n",
    "\n",
    "For the sake of simplicity you can assume that input solely consists of lowercase alphabets, spaces and punctuation symbols. Numbers in the input text would also be ignored similar to symbols."
   ]
  },
  {
   "cell_type": "code",
   "execution_count": 9,
   "metadata": {},
   "outputs": [
    {
     "data": {
      "text/plain": [
       "'hello'"
      ]
     },
     "execution_count": 9,
     "metadata": {},
     "output_type": "execute_result"
    }
   ],
   "source": [
    "def encrypt(text,key):\n",
    "    result=\"\"\n",
    "    for i in range(len(text)):\n",
    "        if text[i].isalpha()==True:\n",
    "            result+=chr((ord(text[i])+key-97)%26+97)\n",
    "        else:\n",
    "            result+=text[i]\n",
    "    return result\n",
    "def decrypt(text,key):\n",
    "    result=\"\"\n",
    "    for i in range(len(text)):\n",
    "        if text[i].isalpha()==True:\n",
    "            result+=chr((ord(text[i])-key-97)%26+97)\n",
    "        else:\n",
    "            result+=text[i]\n",
    "    return result\n",
    "\n",
    "decrypt(\"khoor\",3)"
   ]
  }
 ],
 "metadata": {
  "kernelspec": {
   "display_name": "Python 3",
   "language": "python",
   "name": "python3"
  },
  "language_info": {
   "codemirror_mode": {
    "name": "ipython",
    "version": 3
   },
   "file_extension": ".py",
   "mimetype": "text/x-python",
   "name": "python",
   "nbconvert_exporter": "python",
   "pygments_lexer": "ipython3",
   "version": "3.7.4"
  }
 },
 "nbformat": 4,
 "nbformat_minor": 2
}
