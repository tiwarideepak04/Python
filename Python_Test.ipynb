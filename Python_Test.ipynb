{
 "cells": [
  {
   "cell_type": "markdown",
   "metadata": {},
   "source": [
    "# 1. Explain the namespaces in python? Why are they used "
   ]
  },
  {
   "cell_type": "code",
   "execution_count": null,
   "metadata": {},
   "outputs": [],
   "source": [
    "Its Names(which means name,an unique identifier) + Space(it means talks something related to scope)\n",
    "Namespaces in python is the collection of the names,\n",
    "It is a system have unique name for each and every object,\n",
    "Python itself maintain the namespaces in the form of a Python Dictionary,\n",
    "Types of Namespaces are:-\n",
    "    1. Built-in namespace.\n",
    "    2. Global namespace.\n",
    "    3. Local namespace.\n",
    "Python implements namespaces as dictionaries.\n",
    "Same object name can be present in multiple namespaces as isolation between the same name is maintained by their namespaces.\n",
    "\n",
    "\n",
    "\n"
   ]
  },
  {
   "cell_type": "markdown",
   "metadata": {},
   "source": [
    "# 2. In a Casino, there is a game in which a player needs to roll a dice 6 times. If the sum of the results of the surface of the dice is greater than 25 then a person wins otherwise he losses. Write a Program to evaluate the result"
   ]
  },
  {
   "cell_type": "code",
   "execution_count": 3,
   "metadata": {},
   "outputs": [
    {
     "name": "stdout",
     "output_type": "stream",
     "text": [
      "Press enter to roll the dice\n",
      "you got 6\n",
      "Press enter to roll the dice\n",
      "you got 3\n",
      "Press enter to roll the dice\n",
      "you got 4\n",
      "Press enter to roll the dice\n",
      "you got 3\n",
      "Press enter to roll the dice\n",
      "you got 2\n",
      "Press enter to roll the dice\n",
      "you got 3\n",
      "\n",
      "output of dices rolled is : [6, 3, 4, 3, 2, 3]\n",
      "total after rolling dice for 6 times : 21\n",
      "Result is\n",
      "numbers are: [6, 3, 4, 3, 2, 3] total is loss\n"
     ]
    }
   ],
   "source": [
    "import random\n",
    "\n",
    "from functools import reduce \n",
    "l=[]\n",
    "x=0\n",
    "while True:\n",
    "    input('Press enter to roll the dice')\n",
    "    num=random.randint(1,6)\n",
    "    print('you got',num)\n",
    "    l.append(num)\n",
    "    x=x+1\n",
    "    \n",
    "    if x==6:\n",
    "        break\n",
    "        \n",
    "print('\\noutput of dices rolled is :',l)\n",
    "x=reduce(lambda x,y:x+y,l)\n",
    "print('total after rolling dice for 6 times :',x)\n",
    "print('Result is')\n",
    "if x>25:\n",
    "    print('numbers are:',l,'total is','wins')\n",
    "else:\n",
    "    print('numbers are:',l,'total is','loss')\n"
   ]
  },
  {
   "cell_type": "markdown",
   "metadata": {},
   "source": [
    "# 3. In a gameshow contestant can vote their competitor to get eliminated. Each contestant gets to vote twice, there are 6 contestants, write a python program to find out the name of the Contestant who is getting eliminated"
   ]
  },
  {
   "cell_type": "code",
   "execution_count": 2,
   "metadata": {},
   "outputs": [
    {
     "name": "stdout",
     "output_type": "stream",
     "text": [
      "Enter two names to eliminate :Ross,Nansy\n",
      "Enter two names to eliminate :Danniel,Trisha\n",
      "Enter two names to eliminate :Ross,Danniel\n",
      "Enter two names to eliminate :Trisha,Danniel\n",
      "Enter two names to eliminate :Danniel,Ross\n",
      "Enter two names to eliminate :Ross,Trisha\n",
      "['Danniel', 'Ross', 'Nansy', 'Trisha', 'Ross', 'Nansy', 'Danniel', 'Trisha', 'Ross', 'Danniel', 'Trisha', 'Danniel', 'Danniel', 'Ross', 'Ross', 'Trisha']\n"
     ]
    }
   ],
   "source": [
    "l=['Danniel','Ross','Nansy','Trisha']\n",
    "a1,b1=[str(i) for i in input('Enter two names to eliminate :').split(',')]\n",
    "l.append(a1)\n",
    "l.append(b1)\n",
    "a2,b2=[str(i) for i in input('Enter two names to eliminate :').split(',')]\n",
    "l.append(a2)\n",
    "l.append(b2)\n",
    "a3,b3=[str(i) for i in input('Enter two names to eliminate :').split(',')]\n",
    "l.append(a3)\n",
    "l.append(b3)\n",
    "a4,b4=[str(i) for i in input('Enter two names to eliminate :').split(',')]\n",
    "l.append(a4)\n",
    "l.append(b4)\n",
    "a5,b5=[str(i) for i in input('Enter two names to eliminate :').split(',')]\n",
    "l.append(a5)\n",
    "l.append(b5)\n",
    "a6,b6=[str(i) for i in input('Enter two names to eliminate :').split(',')]\n",
    "l.append(a6)\n",
    "l.append(b6)\n",
    "\n",
    "print(l)\n",
    "\n",
    "if l.count('Danniel')>l.count(\"Ross\") & l.count('Danniel')>l.count('Nansy')&l.count('Trisha'):\n",
    "    print('Danniel is eliminated')\n",
    "elif l.count('Ross')>l.count('Danniel') & l.count('Nansy') & l.count('Ross')>l.count('Trisha'):\n",
    "    print('Ross is eliminated ')\n",
    "elif l.count('Nansy')>l.count(\"Danniel\") & l.count('Nansy')>l.count('Ross')&l.count('Trisha'):\n",
    "    print('Nansy is eliminated')\n",
    "elif l.count('Trisha')>l.count(\"Danniel\") & l.count('Trisha')>l.count('Ross')&l.count('Trisha'):\n",
    "    print('Trisha is eliminated')"
   ]
  },
  {
   "cell_type": "code",
   "execution_count": 2,
   "metadata": {},
   "outputs": [
    {
     "name": "stdout",
     "output_type": "stream",
     "text": [
      "\n",
      "no 1 candidate enter your vote\n",
      "\n",
      "enter name of two contestant you want to remove\n",
      "\n",
      "enter name of %d contestant you want to remove\n",
      "Danniel\n",
      "enter name of %d contestant you want to remove\n",
      "Ross\n",
      "\n",
      "no 2 candidate enter your vote\n",
      "\n",
      "enter name of two contestant you want to remove\n",
      "\n",
      "enter name of %d contestant you want to remove\n",
      "Ross\n",
      "enter name of %d contestant you want to remove\n",
      "Nancy\n",
      "\n",
      "no 3 candidate enter your vote\n",
      "\n",
      "enter name of two contestant you want to remove\n",
      "\n",
      "enter name of %d contestant you want to remove\n",
      "Nancy\n",
      "enter name of %d contestant you want to remove\n",
      "Ross\n",
      "\n",
      "no 4 candidate enter your vote\n",
      "\n",
      "enter name of two contestant you want to remove\n",
      "\n",
      "enter name of %d contestant you want to remove\n",
      "Danniel\n",
      "enter name of %d contestant you want to remove\n",
      "Ross\n",
      "\n",
      "no 5 candidate enter your vote\n",
      "\n",
      "enter name of two contestant you want to remove\n",
      "\n",
      "enter name of %d contestant you want to remove\n",
      "Danniel\n",
      "enter name of %d contestant you want to remove\n",
      "Ross\n",
      "\n",
      "no 6 candidate enter your vote\n",
      "\n",
      "enter name of two contestant you want to remove\n",
      "\n",
      "enter name of %d contestant you want to remove\n",
      "Danniel\n",
      "enter name of %d contestant you want to remove\n",
      "Trisha\n",
      "\n",
      "the contestant removed by voting is\n",
      "\n",
      "Ross\n"
     ]
    }
   ],
   "source": [
    "vote=[]\n",
    "dic={}\n",
    "for i in range(1,7):\n",
    "    print('\\nno %s candidate enter your vote\\n'%i)\n",
    "    print('enter name of two contestant you want to remove\\n')\n",
    "    for j in range(1,3):\n",
    "        vote.append(input('enter name of %d contestant you want to remove\\n'))\n",
    "        \n",
    "for p in vote:\n",
    "    dic[vote.count(p)]=p\n",
    "    \n",
    "no=max(dic.keys())\n",
    "print('\\nthe contestant removed by voting is\\n')\n",
    "print(dic[no])"
   ]
  },
  {
   "cell_type": "code",
   "execution_count": null,
   "metadata": {},
   "outputs": [],
   "source": []
  }
 ],
 "metadata": {
  "kernelspec": {
   "display_name": "Python 3",
   "language": "python",
   "name": "python3"
  },
  "language_info": {
   "codemirror_mode": {
    "name": "ipython",
    "version": 3
   },
   "file_extension": ".py",
   "mimetype": "text/x-python",
   "name": "python",
   "nbconvert_exporter": "python",
   "pygments_lexer": "ipython3",
   "version": "3.8.5"
  }
 },
 "nbformat": 4,
 "nbformat_minor": 2
}
