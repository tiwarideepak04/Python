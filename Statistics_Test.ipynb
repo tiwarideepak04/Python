{
 "cells": [
  {
   "cell_type": "markdown",
   "metadata": {
    "id": "iUcupX6iKLYP"
   },
   "source": [
    "# STAT MID EXAM"
   ]
  },
  {
   "cell_type": "code",
   "execution_count": 4,
   "metadata": {
    "id": "Uum5C0QcKLYR"
   },
   "outputs": [],
   "source": [
    "import numpy as np\n",
    "import pandas as pd\n",
    "import scipy.stats as stats\n",
    "from scipy.stats import ttest_1samp,ttest_ind,wilcoxon\n",
    "from statsmodels.stats.power import ttest_power\n",
    "import matplotlib.pyplot as plt\n",
    "import seaborn as sns\n",
    "import warnings\n",
    "warnings.filterwarnings('ignore')"
   ]
  },
  {
   "cell_type": "markdown",
   "metadata": {
    "id": "iex07q-WKLYb"
   },
   "source": [
    "_________________"
   ]
  },
  {
   "cell_type": "markdown",
   "metadata": {
    "id": "q_3iS_1gKLYc"
   },
   "source": [
    "# SECTION A: 8 MARKS"
   ]
  },
  {
   "cell_type": "markdown",
   "metadata": {
    "id": "7XpwU777KLYd"
   },
   "source": [
    "_________________"
   ]
  },
  {
   "cell_type": "markdown",
   "metadata": {
    "id": "QH0XDb63KLYe"
   },
   "source": [
    "<span style=\"font-family: Arial; font-weight:bold;font-size:1.5em;color:#7d5b06;\">1. Determine the confidence interval of 95% for a random sample of size 400 with mean 196 and standard deviation 16 ?"
   ]
  },
  {
   "cell_type": "code",
   "execution_count": 42,
   "metadata": {},
   "outputs": [],
   "source": [
    "s = 16\n",
    "n = 400\n",
    "se = s/np.sqrt(n)\n",
    "xbar = 196\n",
    "# confidence interval = 95%"
   ]
  },
  {
   "cell_type": "code",
   "execution_count": 44,
   "metadata": {},
   "outputs": [
    {
     "name": "stdout",
     "output_type": "stream",
     "text": [
      "1.9599639845400545\n",
      "-1.959963984540054\n"
     ]
    }
   ],
   "source": [
    "print(stats.norm.isf(0.025, loc = 0, scale = 1))\n",
    "print(stats.norm.isf(0.975, loc = 0, scale = 1))"
   ]
  },
  {
   "cell_type": "code",
   "execution_count": 45,
   "metadata": {},
   "outputs": [
    {
     "name": "stdout",
     "output_type": "stream",
     "text": [
      "197.56797118763205\n",
      "194.43202881236795\n"
     ]
    }
   ],
   "source": [
    "print(stats.norm.isf(0.025, loc = xbar, scale = se))\n",
    "print(stats.norm.isf(0.975, loc = xbar, scale = se))"
   ]
  },
  {
   "cell_type": "code",
   "execution_count": 46,
   "metadata": {},
   "outputs": [
    {
     "data": {
      "text/plain": [
       "(194.43202881236795, 197.56797118763205)"
      ]
     },
     "execution_count": 46,
     "metadata": {},
     "output_type": "execute_result"
    }
   ],
   "source": [
    "stats.norm.interval(0.95, loc = 196, scale = se)"
   ]
  },
  {
   "cell_type": "code",
   "execution_count": 49,
   "metadata": {},
   "outputs": [
    {
     "name": "stdout",
     "output_type": "stream",
     "text": [
      "194.432\n",
      "197.568\n"
     ]
    }
   ],
   "source": [
    "lower_interval = xbar - (1.96 * (s / np.sqrt(n)))\n",
    "upper_interval = xbar + (1.96 * (s / np.sqrt(n)))\n",
    "print(lower_interval)\n",
    "print(upper_interval)"
   ]
  },
  {
   "cell_type": "code",
   "execution_count": 51,
   "metadata": {},
   "outputs": [
    {
     "name": "stdout",
     "output_type": "stream",
     "text": [
      "For 95% confidence interval is  194.432 to 197.568\n"
     ]
    }
   ],
   "source": [
    "print('For 95% confidence interval is ', lower_interval, 'to', upper_interval)"
   ]
  },
  {
   "cell_type": "markdown",
   "metadata": {
    "id": "SL7NawBrKLYp"
   },
   "source": [
    "_________________"
   ]
  },
  {
   "cell_type": "markdown",
   "metadata": {
    "id": "l-QV4kYiKLYq"
   },
   "source": [
    "# SECTION B: 17 MARKS"
   ]
  },
  {
   "cell_type": "markdown",
   "metadata": {
    "id": "FJrGvKf-KLYr"
   },
   "source": [
    "_________________"
   ]
  },
  {
   "cell_type": "markdown",
   "metadata": {
    "id": "xQuKy99GKLYs"
   },
   "source": [
    "#### 2.\tMultiple myeloma or blood plasma cancer is characterised by increased by blood vessel formulation (angiogenesis) in the bone marrow that is a predictive factor in survival. One treatment approach used for multiple myeloma is stem cell transplantation with the patient’s own stem cells. The data given below represents the bone marrow micro vessel density for patients who had a complete response to the stem cell transplant (as measured by blood and urine tests). The measurements were taken immediately prior to the stem cell transplant and at the time the complete response was determined. (17 MARKS)\n",
    "\n",
    "|Patient|Before|After|\n",
    "|--|--|--|\n",
    "|1|158|284|\n",
    "|2|189|214|\n",
    "|3|202|101|\n",
    "|4|353|227|\n",
    "|5|416|290|\n",
    "|6|426|176|\n",
    "|7|441|290|\n",
    "\n",
    "\n",
    "a.\tAt the 0.05 level of significance, is there evidence that the mean bone marrow micro vessel density is higher before the stem cell transplant than after the stem cell transplant? (8 MARKS)\n",
    "\n",
    "b.\tInterpret the meaning of test statistic and p-value from the result. (5 MARKS)\n",
    "\n",
    "c.\tConstruct and interpret the 95% confidence interval estimation of the mean difference in bone marrow micro vessel density before and after stem cell transplant. (4 MARKS)"
   ]
  },
  {
   "cell_type": "markdown",
   "metadata": {},
   "source": [
    "# a"
   ]
  },
  {
   "cell_type": "code",
   "execution_count": 56,
   "metadata": {},
   "outputs": [
    {
     "data": {
      "text/html": [
       "<div>\n",
       "<style scoped>\n",
       "    .dataframe tbody tr th:only-of-type {\n",
       "        vertical-align: middle;\n",
       "    }\n",
       "\n",
       "    .dataframe tbody tr th {\n",
       "        vertical-align: top;\n",
       "    }\n",
       "\n",
       "    .dataframe thead th {\n",
       "        text-align: right;\n",
       "    }\n",
       "</style>\n",
       "<table border=\"1\" class=\"dataframe\">\n",
       "  <thead>\n",
       "    <tr style=\"text-align: right;\">\n",
       "      <th></th>\n",
       "      <th>Patient</th>\n",
       "      <th>Before</th>\n",
       "      <th>After</th>\n",
       "    </tr>\n",
       "  </thead>\n",
       "  <tbody>\n",
       "    <tr>\n",
       "      <th>0</th>\n",
       "      <td>1</td>\n",
       "      <td>158</td>\n",
       "      <td>284</td>\n",
       "    </tr>\n",
       "    <tr>\n",
       "      <th>1</th>\n",
       "      <td>2</td>\n",
       "      <td>189</td>\n",
       "      <td>214</td>\n",
       "    </tr>\n",
       "    <tr>\n",
       "      <th>2</th>\n",
       "      <td>3</td>\n",
       "      <td>202</td>\n",
       "      <td>101</td>\n",
       "    </tr>\n",
       "    <tr>\n",
       "      <th>3</th>\n",
       "      <td>4</td>\n",
       "      <td>353</td>\n",
       "      <td>227</td>\n",
       "    </tr>\n",
       "    <tr>\n",
       "      <th>4</th>\n",
       "      <td>5</td>\n",
       "      <td>416</td>\n",
       "      <td>290</td>\n",
       "    </tr>\n",
       "    <tr>\n",
       "      <th>5</th>\n",
       "      <td>6</td>\n",
       "      <td>426</td>\n",
       "      <td>176</td>\n",
       "    </tr>\n",
       "    <tr>\n",
       "      <th>6</th>\n",
       "      <td>7</td>\n",
       "      <td>441</td>\n",
       "      <td>290</td>\n",
       "    </tr>\n",
       "  </tbody>\n",
       "</table>\n",
       "</div>"
      ],
      "text/plain": [
       "   Patient  Before  After\n",
       "0        1     158    284\n",
       "1        2     189    214\n",
       "2        3     202    101\n",
       "3        4     353    227\n",
       "4        5     416    290\n",
       "5        6     426    176\n",
       "6        7     441    290"
      ]
     },
     "execution_count": 56,
     "metadata": {},
     "output_type": "execute_result"
    }
   ],
   "source": [
    "df = pd.DataFrame({'Patient' : [1,2,3,4,5,6,7],\n",
    "                  'Before' : [158,189,202,353,416,426,441],\n",
    "                  'After' : [284,214,101,227,290,176,290]})\n",
    "df"
   ]
  },
  {
   "cell_type": "code",
   "execution_count": 64,
   "metadata": {},
   "outputs": [
    {
     "data": {
      "image/png": "[encoded data removed]",
      "text/plain": [
       "<Figure size 432x288 with 1 Axes>"
      ]
     },
     "metadata": {
      "needs_background": "light"
     },
     "output_type": "display_data"
    }
   ],
   "source": [
    "sns.distplot(df['Before'])\n",
    "sns.distplot(df['After'])\n",
    "plt.show()"
   ]
  },
  {
   "cell_type": "code",
   "execution_count": null,
   "metadata": {
    "id": "wK-bPHqhKLYt"
   },
   "outputs": [],
   "source": [
    "mb = mean value before treatment\n",
    "ma = mean value after treatment\n",
    "\n",
    "Null hypothesis : higher is null : mb > ma\n",
    "Alternate hypothesis : lower is alternate : mb <= ma"
   ]
  },
  {
   "cell_type": "code",
   "execution_count": 58,
   "metadata": {},
   "outputs": [],
   "source": [
    "alpha = 0.05  # as sample size < 30 and std is unknown"
   ]
  },
  {
   "cell_type": "code",
   "execution_count": 59,
   "metadata": {},
   "outputs": [
    {
     "data": {
      "text/plain": [
       "Ttest_indResult(statistic=1.5924264925560603, pvalue=0.13727358967931683)"
      ]
     },
     "execution_count": 59,
     "metadata": {},
     "output_type": "execute_result"
    }
   ],
   "source": [
    "stats.ttest_ind(df['Before'], df['After'])"
   ]
  },
  {
   "cell_type": "code",
   "execution_count": 63,
   "metadata": {},
   "outputs": [
    {
     "data": {
      "text/plain": [
       "Ttest_relResult(statistic=1.8424550291027728, pvalue=0.11498626687185708)"
      ]
     },
     "execution_count": 63,
     "metadata": {},
     "output_type": "execute_result"
    }
   ],
   "source": [
    "stats.ttest_rel(df['Before'], df['After'])"
   ]
  },
  {
   "cell_type": "markdown",
   "metadata": {},
   "source": [
    "# b"
   ]
  },
  {
   "cell_type": "code",
   "execution_count": 61,
   "metadata": {},
   "outputs": [
    {
     "name": "stdout",
     "output_type": "stream",
     "text": [
      "P value\n",
      "0.13727358967931683\n",
      "P value is greater than 5%, Hence Fail to reject null\n"
     ]
    }
   ],
   "source": [
    "print('P value')\n",
    "print(stats.ttest_ind(df['Before'], df['After'])[1])\n",
    "print('P value is greater than 5%, Hence Fail to reject null')"
   ]
  },
  {
   "cell_type": "markdown",
   "metadata": {},
   "source": [
    "INFERENCE\n",
    "\n",
    "As p value is more than alpha the fail to reject null,\n",
    "\n",
    "i.e. Mean value of bone marrow in the vessel reduce after the treatment"
   ]
  },
  {
   "cell_type": "markdown",
   "metadata": {},
   "source": [
    "# c"
   ]
  },
  {
   "cell_type": "code",
   "execution_count": null,
   "metadata": {},
   "outputs": [],
   "source": []
  },
  {
   "cell_type": "markdown",
   "metadata": {
    "id": "DQ4t90hHKLY0"
   },
   "source": [
    "_________________"
   ]
  },
  {
   "cell_type": "markdown",
   "metadata": {
    "id": "Wi1w6ASSKLY1"
   },
   "source": [
    "# SECTION C: 25 MARKS"
   ]
  },
  {
   "cell_type": "markdown",
   "metadata": {
    "id": "AbGPSHKMKLY3"
   },
   "source": [
    "_________________"
   ]
  },
  {
   "cell_type": "markdown",
   "metadata": {
    "id": "oi8z8K8BKLY5"
   },
   "source": [
    "<span style=\"font-family: Arial; font-weight:bold;font-size:1.5em;color:#7d5b06;\"> 3. A dice is thrown 132 times with the following results. Is the dice unbiased? solve the problem with following steps :\n",
    "    \n",
    "| Number turned up:|Frequency |\n",
    "| ------|  ------ |\n",
    "|1|16|\n",
    "|2|20|\n",
    "|3|25|\n",
    "|4|14|\n",
    "|5|29|\n",
    "|6|28|\n",
    "    \n",
    "\n",
    "A. Create contigency table( 3 mark) \n",
    "\n",
    "B. State Null and Alternate Hypothesis(3 mark)\n",
    "\n",
    "C. Find Expected values( 5 marks)\n",
    "\n",
    "D. FInd Chisquare statistic( 7 marks)\n",
    "\n",
    "E. USe Critical value and P value approach to make a decision.( 7 marks) \n"
   ]
  },
  {
   "cell_type": "markdown",
   "metadata": {
    "id": "DzxOD4y8KLY6"
   },
   "source": [
    "# A. Create contigency table"
   ]
  },
  {
   "cell_type": "code",
   "execution_count": 40,
   "metadata": {},
   "outputs": [
    {
     "data": {
      "text/html": [
       "<div>\n",
       "<style scoped>\n",
       "    .dataframe tbody tr th:only-of-type {\n",
       "        vertical-align: middle;\n",
       "    }\n",
       "\n",
       "    .dataframe tbody tr th {\n",
       "        vertical-align: top;\n",
       "    }\n",
       "\n",
       "    .dataframe thead th {\n",
       "        text-align: right;\n",
       "    }\n",
       "</style>\n",
       "<table border=\"1\" class=\"dataframe\">\n",
       "  <thead>\n",
       "    <tr style=\"text-align: right;\">\n",
       "      <th></th>\n",
       "      <th>Number turned up:</th>\n",
       "      <th>Frequency</th>\n",
       "    </tr>\n",
       "  </thead>\n",
       "  <tbody>\n",
       "    <tr>\n",
       "      <th>0</th>\n",
       "      <td>1</td>\n",
       "      <td>16</td>\n",
       "    </tr>\n",
       "    <tr>\n",
       "      <th>1</th>\n",
       "      <td>2</td>\n",
       "      <td>20</td>\n",
       "    </tr>\n",
       "    <tr>\n",
       "      <th>2</th>\n",
       "      <td>3</td>\n",
       "      <td>25</td>\n",
       "    </tr>\n",
       "    <tr>\n",
       "      <th>3</th>\n",
       "      <td>4</td>\n",
       "      <td>14</td>\n",
       "    </tr>\n",
       "    <tr>\n",
       "      <th>4</th>\n",
       "      <td>5</td>\n",
       "      <td>29</td>\n",
       "    </tr>\n",
       "    <tr>\n",
       "      <th>5</th>\n",
       "      <td>6</td>\n",
       "      <td>28</td>\n",
       "    </tr>\n",
       "  </tbody>\n",
       "</table>\n",
       "</div>"
      ],
      "text/plain": [
       "   Number turned up:  Frequency\n",
       "0                  1         16\n",
       "1                  2         20\n",
       "2                  3         25\n",
       "3                  4         14\n",
       "4                  5         29\n",
       "5                  6         28"
      ]
     },
     "execution_count": 40,
     "metadata": {},
     "output_type": "execute_result"
    }
   ],
   "source": [
    "c_t = {'Number turned up:': [1,2,3,4,5,6],\n",
    "     'Frequency': [16,20,25,14,29,28]}\n",
    "ct = pd.DataFrame(c_t)\n",
    "ct"
   ]
  },
  {
   "cell_type": "markdown",
   "metadata": {},
   "source": [
    "# B. State Null and Alternate Hypothesis"
   ]
  },
  {
   "cell_type": "markdown",
   "metadata": {},
   "source": [
    "H0 = The dice is unbiased\n",
    "\n",
    "H = The dice is biased"
   ]
  },
  {
   "cell_type": "markdown",
   "metadata": {},
   "source": [
    "# C. Find Expected values"
   ]
  },
  {
   "cell_type": "code",
   "execution_count": 39,
   "metadata": {},
   "outputs": [
    {
     "data": {
      "text/plain": [
       "22.0"
      ]
     },
     "execution_count": 39,
     "metadata": {},
     "output_type": "execute_result"
    }
   ],
   "source": [
    "p = 1/6\n",
    "t = 132\n",
    "expected_frequency = p*t\n",
    "expected_frequency"
   ]
  },
  {
   "cell_type": "code",
   "execution_count": 29,
   "metadata": {},
   "outputs": [
    {
     "data": {
      "text/html": [
       "<div>\n",
       "<style scoped>\n",
       "    .dataframe tbody tr th:only-of-type {\n",
       "        vertical-align: middle;\n",
       "    }\n",
       "\n",
       "    .dataframe tbody tr th {\n",
       "        vertical-align: top;\n",
       "    }\n",
       "\n",
       "    .dataframe thead th {\n",
       "        text-align: right;\n",
       "    }\n",
       "</style>\n",
       "<table border=\"1\" class=\"dataframe\">\n",
       "  <thead>\n",
       "    <tr style=\"text-align: right;\">\n",
       "      <th></th>\n",
       "      <th>Number turned up:</th>\n",
       "      <th>Frequency</th>\n",
       "      <th>expected frequency</th>\n",
       "    </tr>\n",
       "  </thead>\n",
       "  <tbody>\n",
       "    <tr>\n",
       "      <th>0</th>\n",
       "      <td>1</td>\n",
       "      <td>16</td>\n",
       "      <td>22</td>\n",
       "    </tr>\n",
       "    <tr>\n",
       "      <th>1</th>\n",
       "      <td>2</td>\n",
       "      <td>20</td>\n",
       "      <td>22</td>\n",
       "    </tr>\n",
       "    <tr>\n",
       "      <th>2</th>\n",
       "      <td>3</td>\n",
       "      <td>25</td>\n",
       "      <td>22</td>\n",
       "    </tr>\n",
       "    <tr>\n",
       "      <th>3</th>\n",
       "      <td>4</td>\n",
       "      <td>14</td>\n",
       "      <td>22</td>\n",
       "    </tr>\n",
       "    <tr>\n",
       "      <th>4</th>\n",
       "      <td>5</td>\n",
       "      <td>29</td>\n",
       "      <td>22</td>\n",
       "    </tr>\n",
       "    <tr>\n",
       "      <th>5</th>\n",
       "      <td>6</td>\n",
       "      <td>28</td>\n",
       "      <td>22</td>\n",
       "    </tr>\n",
       "  </tbody>\n",
       "</table>\n",
       "</div>"
      ],
      "text/plain": [
       "   Number turned up:  Frequency  expected frequency\n",
       "0                  1         16                  22\n",
       "1                  2         20                  22\n",
       "2                  3         25                  22\n",
       "3                  4         14                  22\n",
       "4                  5         29                  22\n",
       "5                  6         28                  22"
      ]
     },
     "execution_count": 29,
     "metadata": {},
     "output_type": "execute_result"
    }
   ],
   "source": [
    "ct['expected frequency'] = [22,22,22,22,22,22]\n",
    "ct"
   ]
  },
  {
   "cell_type": "markdown",
   "metadata": {},
   "source": [
    "# D. FInd Chisquare statistic"
   ]
  },
  {
   "cell_type": "code",
   "execution_count": 38,
   "metadata": {},
   "outputs": [
    {
     "data": {
      "text/html": [
       "<div>\n",
       "<style scoped>\n",
       "    .dataframe tbody tr th:only-of-type {\n",
       "        vertical-align: middle;\n",
       "    }\n",
       "\n",
       "    .dataframe tbody tr th {\n",
       "        vertical-align: top;\n",
       "    }\n",
       "\n",
       "    .dataframe thead th {\n",
       "        text-align: right;\n",
       "    }\n",
       "</style>\n",
       "<table border=\"1\" class=\"dataframe\">\n",
       "  <thead>\n",
       "    <tr style=\"text-align: right;\">\n",
       "      <th></th>\n",
       "      <th>Number turned up:</th>\n",
       "      <th>Frequency</th>\n",
       "      <th>expected frequency</th>\n",
       "      <th>(o-e)^2</th>\n",
       "    </tr>\n",
       "  </thead>\n",
       "  <tbody>\n",
       "    <tr>\n",
       "      <th>0</th>\n",
       "      <td>1</td>\n",
       "      <td>16</td>\n",
       "      <td>22</td>\n",
       "      <td>36</td>\n",
       "    </tr>\n",
       "    <tr>\n",
       "      <th>1</th>\n",
       "      <td>2</td>\n",
       "      <td>20</td>\n",
       "      <td>22</td>\n",
       "      <td>4</td>\n",
       "    </tr>\n",
       "    <tr>\n",
       "      <th>2</th>\n",
       "      <td>3</td>\n",
       "      <td>25</td>\n",
       "      <td>22</td>\n",
       "      <td>9</td>\n",
       "    </tr>\n",
       "    <tr>\n",
       "      <th>3</th>\n",
       "      <td>4</td>\n",
       "      <td>14</td>\n",
       "      <td>22</td>\n",
       "      <td>64</td>\n",
       "    </tr>\n",
       "    <tr>\n",
       "      <th>4</th>\n",
       "      <td>5</td>\n",
       "      <td>29</td>\n",
       "      <td>22</td>\n",
       "      <td>49</td>\n",
       "    </tr>\n",
       "    <tr>\n",
       "      <th>5</th>\n",
       "      <td>6</td>\n",
       "      <td>28</td>\n",
       "      <td>22</td>\n",
       "      <td>36</td>\n",
       "    </tr>\n",
       "  </tbody>\n",
       "</table>\n",
       "</div>"
      ],
      "text/plain": [
       "   Number turned up:  Frequency  expected frequency  (o-e)^2\n",
       "0                  1         16                  22       36\n",
       "1                  2         20                  22        4\n",
       "2                  3         25                  22        9\n",
       "3                  4         14                  22       64\n",
       "4                  5         29                  22       49\n",
       "5                  6         28                  22       36"
      ]
     },
     "execution_count": 38,
     "metadata": {},
     "output_type": "execute_result"
    }
   ],
   "source": [
    "ct['(o-e)^2'] = (ct['Frequency'] - ct['expected frequency'])**2\n",
    "ct"
   ]
  },
  {
   "cell_type": "code",
   "execution_count": 34,
   "metadata": {},
   "outputs": [
    {
     "name": "stdout",
     "output_type": "stream",
     "text": [
      "The Chisquare statistic is :  9.0\n"
     ]
    }
   ],
   "source": [
    "cs = np.sum(ct['(o-e)^2'] / ct['expected frequency'])\n",
    "print('The Chisquare statistic is : ', cs)"
   ]
  },
  {
   "cell_type": "markdown",
   "metadata": {},
   "source": [
    "# E. USe Critical value and P value approach to make a decision."
   ]
  },
  {
   "cell_type": "code",
   "execution_count": 37,
   "metadata": {},
   "outputs": [
    {
     "data": {
      "text/plain": [
       "Power_divergenceResult(statistic=9.0, pvalue=0.1090641579497725)"
      ]
     },
     "execution_count": 37,
     "metadata": {},
     "output_type": "execute_result"
    }
   ],
   "source": [
    "stats.chisquare(ct['Frequency'], ct['expected frequency'])"
   ]
  },
  {
   "cell_type": "code",
   "execution_count": 36,
   "metadata": {},
   "outputs": [
    {
     "name": "stdout",
     "output_type": "stream",
     "text": [
      "The chisquare critical is :  11.070497693516355\n"
     ]
    }
   ],
   "source": [
    "### DF = (n-1) = (6-1) = 5\n",
    "### Alpha = 5%\n",
    "cc = stats.chi2.isf(0.05, 5)\n",
    "print('The chisquare critical is : ', cc)"
   ]
  },
  {
   "cell_type": "markdown",
   "metadata": {},
   "source": [
    "INFERENCE\n",
    "\n",
    "Since the chisquare is more than chisquare stats (p_value > 0.05),\n",
    "hence we fail to reject the null hypothesis and conclude that dice is unbiased."
   ]
  },
  {
   "cell_type": "code",
   "execution_count": null,
   "metadata": {},
   "outputs": [],
   "source": []
  }
 ],
 "metadata": {
  "colab": {
   "collapsed_sections": [],
   "name": "STAT_MID_EXAM_SET7_Question.ipynb",
   "provenance": []
  },
  "kernelspec": {
   "display_name": "Python 3",
   "language": "python",
   "name": "python3"
  },
  "language_info": {
   "codemirror_mode": {
    "name": "ipython",
    "version": 3
   },
   "file_extension": ".py",
   "mimetype": "text/x-python",
   "name": "python",
   "nbconvert_exporter": "python",
   "pygments_lexer": "ipython3",
   "version": "3.7.3"
  }
 },
 "nbformat": 4,
 "nbformat_minor": 1
}
