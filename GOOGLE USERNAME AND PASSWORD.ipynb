{
 "cells": [
  {
   "cell_type": "code",
   "execution_count": null,
   "metadata": {},
   "outputs": [],
   "source": [
    "#put it on GITHUB.\n",
    "\n",
    "print('CREDIT CARD DETAILS')\n",
    "\n",
    "\n",
    "cardno=input('please enter your 16 digit card number_')\n",
    "\n",
    "if len(cardno)!=16:\n",
    "    print('please enter 16 digits of credit card')\n",
    "else:\n",
    "    print('Thank You')\n",
    "    \n",
    "\n",
    "fname=input('enter your fname_')\n",
    "mname=input('enter your mname_')\n",
    "lname=input('enter your lname_')\n",
    "name=[fname,mname,lname]\n",
    "\n",
    "\n",
    "print('please enter your expdate')\n",
    "MM=int(input('please enter the month'))\n",
    "YYYY=int(input('please enter the year'))\n",
    "expdate=[MM,YYYY]\n",
    "if YYYY!=2020:\n",
    "    print('your card year is expired')\n",
    "\n",
    "elif MM<2 or MM>12:\n",
    "    print('your card month is expired')\n",
    "    \n",
    "else:\n",
    "    print('Thank You')\n",
    "    \n",
    "import random\n",
    "print('your otp is :', random.randint(1000,9999))\n",
    "\n",
    "\n",
    "CVV=random.randint(100,999)\n",
    "print('your CVV is :',CVV)\n",
    "\n",
    "ph=int(input('please enter your phone number_'))\n",
    "\n",
    "card={ph:{cardno:{CVV:name}}}\n",
    "print(card)"
   ]
  }
 ],
 "metadata": {
  "kernelspec": {
   "display_name": "Python 3",
   "language": "python",
   "name": "python3"
  },
  "language_info": {
   "codemirror_mode": {
    "name": "ipython",
    "version": 3
   },
   "file_extension": ".py",
   "mimetype": "text/x-python",
   "name": "python",
   "nbconvert_exporter": "python",
   "pygments_lexer": "ipython3",
   "version": "3.7.4"
  }
 },
 "nbformat": 4,
 "nbformat_minor": 2
}
