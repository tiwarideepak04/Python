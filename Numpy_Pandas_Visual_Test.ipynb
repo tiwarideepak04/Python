{
 "cells": [
  {
   "cell_type": "markdown",
   "metadata": {},
   "source": [
    "### Numpy and Pandas Mid exam paper"
   ]
  },
  {
   "cell_type": "markdown",
   "metadata": {},
   "source": [
    "-------\n",
    "# Section A: 5 Marks\n",
    "-----------"
   ]
  },
  {
   "cell_type": "markdown",
   "metadata": {},
   "source": [
    "### 1. What is the difference between numpy and pandas (5 Marks)"
   ]
  },
  {
   "cell_type": "code",
   "execution_count": null,
   "metadata": {},
   "outputs": [],
   "source": [
    "# NUMPY\n",
    "Numpy is a python package written in C which is used to perform numerical operations and for processing n-deimensional arrays.\n",
    "\n",
    "# PANDAS\n",
    "It is defined as python package which provides high performance data manipulation in python and requires numpy for operating as it is built on the top of numpy.\n",
    "\n",
    "Both numpy and pandas are open source library.\n",
    "\n",
    "# Diference between Numpy and Pandas are :-\n",
    "\n",
    "1. Numpy majorly works with numerical data whereas Pandas works with tabular data.\n",
    "\n",
    "2. The data structure in Pandas are Series, Dataframe whose object can go upto three. Whereas Numpy has Arrays whose object can go upto n dimensions.\n",
    "\n",
    "3. Numpy consumes less memory as compared to Pandas.\n",
    "\n",
    "4. Pandas performs better with the data having 500,000 rows or more whereas Numpy performances better for 50,000 rows or less.\n",
    "\n",
    "5. Pandas is more widely used in industry than Numpy.\n",
    "\n",
    "6. Pandas provides us with some powerful objects like dataFrames and Series which are very useful for working with and analyzing data whereas Numpy library\n",
    "    provides objects for nulti-dimensional arrays, Pandas provides in-memory 2-d table object called Dataframe.\n",
    "    \n",
    "7. Pandas works when data is in Tabular format whereas Numpy works really well when data is numeric,"
   ]
  },
  {
   "cell_type": "markdown",
   "metadata": {},
   "source": [
    "-------\n",
    "# Section B: 10 Marks\n",
    "-----------"
   ]
  },
  {
   "cell_type": "markdown",
   "metadata": {},
   "source": [
    "## 2.  Write a program for\n",
    "\n",
    "A) Create a panda series with the values ranging from 0 to 100. Plot the histogram with each bin size of 15 units. (3 marks)\n",
    "  \n",
    "B) Create an array of 100 elements whose values ranging from 0 to 5 with equal difference between the values and line plot for the values.  (2 mark)"
   ]
  },
  {
   "cell_type": "code",
   "execution_count": 1,
   "metadata": {},
   "outputs": [],
   "source": [
    "import numpy as np\n",
    "import pandas as pd\n",
    "import matplotlib.pyplot as plt\n",
    "import seaborn as sns"
   ]
  },
  {
   "cell_type": "code",
   "execution_count": 9,
   "metadata": {},
   "outputs": [
    {
     "name": "stdout",
     "output_type": "stream",
     "text": [
      "[11  4  4 82 23 37 92 24 16 97 98 45  2 51 17 49 56 68 32 82  9 99 83 31\n",
      " 62 59 25 27 44 97 40 47 68 63  1 48 66 72 13 88 20 45 80 79 16 64 77 13\n",
      "  7 91 88 88 20 67 99 18 61 97 93 83 19 95 38  5 62 34 44 89 13 79 39 17\n",
      " 92 85 38 78 78 79 49 13 25 38 54 39 83  5 50 20 59 22 47 13 52 53 83 41\n",
      " 71 84 18 95]\n"
     ]
    },
    {
     "data": {
      "image/png": "[encoded data removed]",
      "text/plain": [
       "<Figure size 432x288 with 1 Axes>"
      ]
     },
     "metadata": {
      "needs_background": "light"
     },
     "output_type": "display_data"
    }
   ],
   "source": [
    "# A)  Create a panda series with the values ranging from 0 to 100. Plot the histogram with each bin size of 15 units.\n",
    "\n",
    "d = np.random.randint(0,100,size = 100)\n",
    "print(d)\n",
    "\n",
    "plt.hist(x = d, bins = 15, rwidth = 0.9, color = 'r')\n",
    "plt.show()"
   ]
  },
  {
   "cell_type": "code",
   "execution_count": 10,
   "metadata": {},
   "outputs": [
    {
     "data": {
      "image/png": "[encoded data removed]",
      "text/plain": [
       "<Figure size 432x288 with 1 Axes>"
      ]
     },
     "metadata": {
      "needs_background": "light"
     },
     "output_type": "display_data"
    }
   ],
   "source": [
    "# B) Create an array of 100 elements whose values ranging from 0 to 5 with equal difference between the values and line plot for the values\n",
    "\n",
    "f = np.linspace(0,5,100)\n",
    "plt.plot(f)\n",
    "plt.show()"
   ]
  },
  {
   "cell_type": "markdown",
   "metadata": {},
   "source": [
    "### 3. Write a program for"
   ]
  },
  {
   "cell_type": "markdown",
   "metadata": {},
   "source": [
    "#### Car1:\n",
    "\n",
    "|        |           |Brand|  |Price|\n",
    "|------  | ----------|-----|  |-----|\n",
    "|Car_name1|    |Honda Civic|  |34000|\n",
    "|Car_name2|  |Toyota Corolla|  |55000|\n",
    "|Car_name3|      |Ford Focus|  |77000|\n",
    "|Car_name4|         |Audi A4|  |65000|\n"
   ]
  },
  {
   "cell_type": "markdown",
   "metadata": {},
   "source": [
    "#### Car2:\n",
    "\n",
    "|        |           |Brand|  |Price|\n",
    "|------  | ----------|-----|  |-----|\n",
    "|Car_name5|    |BMW|  |74000|\n",
    "|Car_name6|  |Ferrari|  |85000|\n",
    "|Car_name7|      |Ford Focus|  |97000|\n",
    "|Car_name8|         | Datsun|  |45000|\n"
   ]
  },
  {
   "cell_type": "markdown",
   "metadata": {},
   "source": [
    "a. Create a data frames separately for Car1 and Car2. (3 Marks)\n",
    "\n",
    "b. Join the two data frames into a final data frame(1 Mark)\n",
    "\n",
    "c. Using a final data frame, find the maximum and minimum car price (1 Mark)"
   ]
  },
  {
   "cell_type": "code",
   "execution_count": 17,
   "metadata": {},
   "outputs": [
    {
     "data": {
      "text/html": [
       "<div>\n",
       "<style scoped>\n",
       "    .dataframe tbody tr th:only-of-type {\n",
       "        vertical-align: middle;\n",
       "    }\n",
       "\n",
       "    .dataframe tbody tr th {\n",
       "        vertical-align: top;\n",
       "    }\n",
       "\n",
       "    .dataframe thead th {\n",
       "        text-align: right;\n",
       "    }\n",
       "</style>\n",
       "<table border=\"1\" class=\"dataframe\">\n",
       "  <thead>\n",
       "    <tr style=\"text-align: right;\">\n",
       "      <th></th>\n",
       "      <th>Brand</th>\n",
       "      <th>Price</th>\n",
       "    </tr>\n",
       "  </thead>\n",
       "  <tbody>\n",
       "    <tr>\n",
       "      <th>Car_name1</th>\n",
       "      <td>Honda Civic</td>\n",
       "      <td>34000</td>\n",
       "    </tr>\n",
       "    <tr>\n",
       "      <th>Car_name2</th>\n",
       "      <td>Toyota Corolla</td>\n",
       "      <td>55000</td>\n",
       "    </tr>\n",
       "    <tr>\n",
       "      <th>Car_name3</th>\n",
       "      <td>Ford Focus</td>\n",
       "      <td>77000</td>\n",
       "    </tr>\n",
       "    <tr>\n",
       "      <th>Car_name4</th>\n",
       "      <td>Audi A4</td>\n",
       "      <td>65000</td>\n",
       "    </tr>\n",
       "  </tbody>\n",
       "</table>\n",
       "</div>"
      ],
      "text/plain": [
       "                    Brand  Price\n",
       "Car_name1     Honda Civic  34000\n",
       "Car_name2  Toyota Corolla  55000\n",
       "Car_name3      Ford Focus  77000\n",
       "Car_name4         Audi A4  65000"
      ]
     },
     "execution_count": 17,
     "metadata": {},
     "output_type": "execute_result"
    }
   ],
   "source": [
    "#  A   Car1\n",
    "\n",
    "d = [\n",
    "    [ 'Honda Civic', 34000],\n",
    "    ['Toyota Corolla', 55000],\n",
    "    [ 'Ford Focus', 77000],\n",
    "    [ 'Audi A4', 65000]\n",
    "]\n",
    "col1 = ['Brand','Price']\n",
    "ind = ['Car_name1', 'Car_name2', 'Car_name3', 'Car_name4']\n",
    "df = pd.DataFrame(d, columns = col1, index = ind)\n",
    "df"
   ]
  },
  {
   "cell_type": "code",
   "execution_count": 18,
   "metadata": {},
   "outputs": [
    {
     "data": {
      "text/html": [
       "<div>\n",
       "<style scoped>\n",
       "    .dataframe tbody tr th:only-of-type {\n",
       "        vertical-align: middle;\n",
       "    }\n",
       "\n",
       "    .dataframe tbody tr th {\n",
       "        vertical-align: top;\n",
       "    }\n",
       "\n",
       "    .dataframe thead th {\n",
       "        text-align: right;\n",
       "    }\n",
       "</style>\n",
       "<table border=\"1\" class=\"dataframe\">\n",
       "  <thead>\n",
       "    <tr style=\"text-align: right;\">\n",
       "      <th></th>\n",
       "      <th>Brande</th>\n",
       "      <th>Price</th>\n",
       "    </tr>\n",
       "  </thead>\n",
       "  <tbody>\n",
       "    <tr>\n",
       "      <th>Car_name5</th>\n",
       "      <td>BMW</td>\n",
       "      <td>74000</td>\n",
       "    </tr>\n",
       "    <tr>\n",
       "      <th>Car_name6</th>\n",
       "      <td>Ferrari</td>\n",
       "      <td>85000</td>\n",
       "    </tr>\n",
       "    <tr>\n",
       "      <th>Car_name7</th>\n",
       "      <td>Ford Focus</td>\n",
       "      <td>97000</td>\n",
       "    </tr>\n",
       "    <tr>\n",
       "      <th>Car_name8</th>\n",
       "      <td>Datsun</td>\n",
       "      <td>45000</td>\n",
       "    </tr>\n",
       "  </tbody>\n",
       "</table>\n",
       "</div>"
      ],
      "text/plain": [
       "               Brande  Price\n",
       "Car_name5         BMW  74000\n",
       "Car_name6     Ferrari  85000\n",
       "Car_name7  Ford Focus  97000\n",
       "Car_name8      Datsun  45000"
      ]
     },
     "execution_count": 18,
     "metadata": {},
     "output_type": "execute_result"
    }
   ],
   "source": [
    "#  A  Car2\n",
    "\n",
    "d1 = [\n",
    "    ['BMW', 74000],\n",
    "    ['Ferrari', 85000],\n",
    "    ['Ford Focus', 97000],\n",
    "    ['Datsun', 45000]\n",
    "]\n",
    "col2 = ['Brande','Price']\n",
    "ind1 = ['Car_name5', 'Car_name6', 'Car_name7', 'Car_name8']\n",
    "df1 = pd.DataFrame(d1, columns = col2, index = ind1)\n",
    "df1"
   ]
  },
  {
   "cell_type": "code",
   "execution_count": 32,
   "metadata": {},
   "outputs": [
    {
     "data": {
      "text/html": [
       "<div>\n",
       "<style scoped>\n",
       "    .dataframe tbody tr th:only-of-type {\n",
       "        vertical-align: middle;\n",
       "    }\n",
       "\n",
       "    .dataframe tbody tr th {\n",
       "        vertical-align: top;\n",
       "    }\n",
       "\n",
       "    .dataframe thead th {\n",
       "        text-align: right;\n",
       "    }\n",
       "</style>\n",
       "<table border=\"1\" class=\"dataframe\">\n",
       "  <thead>\n",
       "    <tr style=\"text-align: right;\">\n",
       "      <th></th>\n",
       "      <th>Brand</th>\n",
       "      <th>Brande</th>\n",
       "      <th>Price</th>\n",
       "    </tr>\n",
       "  </thead>\n",
       "  <tbody>\n",
       "    <tr>\n",
       "      <th>Car_name1</th>\n",
       "      <td>Honda Civic</td>\n",
       "      <td>NaN</td>\n",
       "      <td>34000</td>\n",
       "    </tr>\n",
       "    <tr>\n",
       "      <th>Car_name2</th>\n",
       "      <td>Toyota Corolla</td>\n",
       "      <td>NaN</td>\n",
       "      <td>55000</td>\n",
       "    </tr>\n",
       "    <tr>\n",
       "      <th>Car_name3</th>\n",
       "      <td>Ford Focus</td>\n",
       "      <td>NaN</td>\n",
       "      <td>77000</td>\n",
       "    </tr>\n",
       "    <tr>\n",
       "      <th>Car_name4</th>\n",
       "      <td>Audi A4</td>\n",
       "      <td>NaN</td>\n",
       "      <td>65000</td>\n",
       "    </tr>\n",
       "    <tr>\n",
       "      <th>Car_name5</th>\n",
       "      <td>NaN</td>\n",
       "      <td>BMW</td>\n",
       "      <td>74000</td>\n",
       "    </tr>\n",
       "    <tr>\n",
       "      <th>Car_name6</th>\n",
       "      <td>NaN</td>\n",
       "      <td>Ferrari</td>\n",
       "      <td>85000</td>\n",
       "    </tr>\n",
       "    <tr>\n",
       "      <th>Car_name7</th>\n",
       "      <td>NaN</td>\n",
       "      <td>Ford Focus</td>\n",
       "      <td>97000</td>\n",
       "    </tr>\n",
       "    <tr>\n",
       "      <th>Car_name8</th>\n",
       "      <td>NaN</td>\n",
       "      <td>Datsun</td>\n",
       "      <td>45000</td>\n",
       "    </tr>\n",
       "  </tbody>\n",
       "</table>\n",
       "</div>"
      ],
      "text/plain": [
       "                    Brand      Brande  Price\n",
       "Car_name1     Honda Civic         NaN  34000\n",
       "Car_name2  Toyota Corolla         NaN  55000\n",
       "Car_name3      Ford Focus         NaN  77000\n",
       "Car_name4         Audi A4         NaN  65000\n",
       "Car_name5             NaN         BMW  74000\n",
       "Car_name6             NaN     Ferrari  85000\n",
       "Car_name7             NaN  Ford Focus  97000\n",
       "Car_name8             NaN      Datsun  45000"
      ]
     },
     "execution_count": 32,
     "metadata": {},
     "output_type": "execute_result"
    }
   ],
   "source": [
    "#  B   final dataframe\n",
    "\n",
    "x = pd.concat([df,df1], sort = True)\n",
    "x"
   ]
  },
  {
   "cell_type": "code",
   "execution_count": 33,
   "metadata": {},
   "outputs": [
    {
     "data": {
      "text/html": [
       "<div>\n",
       "<style scoped>\n",
       "    .dataframe tbody tr th:only-of-type {\n",
       "        vertical-align: middle;\n",
       "    }\n",
       "\n",
       "    .dataframe tbody tr th {\n",
       "        vertical-align: top;\n",
       "    }\n",
       "\n",
       "    .dataframe thead th {\n",
       "        text-align: right;\n",
       "    }\n",
       "</style>\n",
       "<table border=\"1\" class=\"dataframe\">\n",
       "  <thead>\n",
       "    <tr style=\"text-align: right;\">\n",
       "      <th></th>\n",
       "      <th>Brand</th>\n",
       "      <th>Brande</th>\n",
       "      <th>Price</th>\n",
       "    </tr>\n",
       "  </thead>\n",
       "  <tbody>\n",
       "    <tr>\n",
       "      <th>Car_name1</th>\n",
       "      <td>Honda Civic</td>\n",
       "      <td>NaN</td>\n",
       "      <td>34000</td>\n",
       "    </tr>\n",
       "  </tbody>\n",
       "</table>\n",
       "</div>"
      ],
      "text/plain": [
       "                 Brand Brande  Price\n",
       "Car_name1  Honda Civic    NaN  34000"
      ]
     },
     "execution_count": 33,
     "metadata": {},
     "output_type": "execute_result"
    }
   ],
   "source": [
    "#  C min price\n",
    "\n",
    "min = x[x['Price']==x['Price'].min()]\n",
    "min"
   ]
  },
  {
   "cell_type": "code",
   "execution_count": 34,
   "metadata": {},
   "outputs": [
    {
     "data": {
      "text/html": [
       "<div>\n",
       "<style scoped>\n",
       "    .dataframe tbody tr th:only-of-type {\n",
       "        vertical-align: middle;\n",
       "    }\n",
       "\n",
       "    .dataframe tbody tr th {\n",
       "        vertical-align: top;\n",
       "    }\n",
       "\n",
       "    .dataframe thead th {\n",
       "        text-align: right;\n",
       "    }\n",
       "</style>\n",
       "<table border=\"1\" class=\"dataframe\">\n",
       "  <thead>\n",
       "    <tr style=\"text-align: right;\">\n",
       "      <th></th>\n",
       "      <th>Brand</th>\n",
       "      <th>Brande</th>\n",
       "      <th>Price</th>\n",
       "    </tr>\n",
       "  </thead>\n",
       "  <tbody>\n",
       "    <tr>\n",
       "      <th>Car_name7</th>\n",
       "      <td>NaN</td>\n",
       "      <td>Ford Focus</td>\n",
       "      <td>97000</td>\n",
       "    </tr>\n",
       "  </tbody>\n",
       "</table>\n",
       "</div>"
      ],
      "text/plain": [
       "          Brand      Brande  Price\n",
       "Car_name7   NaN  Ford Focus  97000"
      ]
     },
     "execution_count": 34,
     "metadata": {},
     "output_type": "execute_result"
    }
   ],
   "source": [
    "#  C max price\n",
    "\n",
    "max = x[x['Price']==x['Price'].max()]\n",
    "max"
   ]
  },
  {
   "cell_type": "markdown",
   "metadata": {},
   "source": [
    "-------\n",
    "# Section C: 15 Marks\n",
    "-----------"
   ]
  },
  {
   "cell_type": "markdown",
   "metadata": {},
   "source": [
    "### 4. Dataset Attributes: \n",
    "\n",
    "The data were obtained in a survey of students math and portuguese language courses in secondary school. It contains a lot of interesting social, gender and study information about students"
   ]
  },
  {
   "cell_type": "markdown",
   "metadata": {},
   "source": [
    "* school - student's school (binary: 'GP' - Gabriel Pereira or 'MS' - Mousinho da Silveira)\n",
    "* sex - student's sex (binary: 'F' - female or 'M' - male)\n",
    "* age - student's age (numeric: from 15 to 22)\n",
    "* address - student's home address type (binary: 'U' - urban or 'R' - rural)\n",
    "* famsize - family size (binary: 'LE3' - less or equal to 3 or 'GT3' - greater than 3)\n",
    "* Pstatus - parent's cohabitation status (binary: 'T' - living together or 'A' - apart)\n",
    "* Medu - mother's education (numeric: 0 - none, 1 - primary education (4th grade), 2 – 5th to 9th grade, 3 – secondary education or 4 – higher education)\n",
    "* Fedu - father's education (numeric: 0 - none, 1 - primary education (4th grade), 2 – 5th to 9th grade, 3 – secondary education or 4 – higher education)\n",
    "* Mjob - mother's job (nominal: 'teacher', 'health' care related, civil 'services' (e.g. administrative or police), 'at_home' or 'other')\n",
    "* Fjob - father's job (nominal: 'teacher', 'health' care related, civil 'services' (e.g. administrative or police), 'at_home' or 'other')\n",
    "* reason - reason to choose this school (nominal: close to 'home', school 'reputation', 'course' preference or 'other')\n",
    "* guardian - student's guardian (nominal: 'mother', 'father' or 'other')\n",
    "* traveltime - home to school travel time (numeric: 1 - 1 hour)\n",
    "* studytime - weekly study time (numeric: 1 - 10 hours)\n",
    "* failures - number of past class failures (numeric: n if 1<=n<3, else 4)\n",
    "* schoolsup - extra educational support (binary: yes or no)\n",
    "* famsup - family educational support (binary: yes or no)\n",
    "* paid - extra paid classes within the course subject (Math or Portuguese) (binary: yes or no)\n",
    "* activities - extra-curricular activities (binary: yes or no)\n",
    "* nursery - attended nursery school (binary: yes or no)\n",
    "* higher - wants to take higher education (binary: yes or no)\n",
    "* internet - Internet access at home (binary: yes or no)\n",
    "* romantic - with a romantic relationship (binary: yes or no)\n",
    "* famrel - quality of family relationships (numeric: from 1 - very bad to 5 - excellent)\n",
    "* freetime - free time after school (numeric: from 1 - very low to 5 - very high)\n",
    "* goout - going out with friends (numeric: from 1 - very low to 5 - very high)\n",
    "* Dalc - workday alcohol consumption (numeric: from 1 - very low to 5 - very high)\n",
    "* Walc - weekend alcohol consumption (numeric: from 1 - very low to 5 - very high)\n",
    "* health - current health status (numeric: from 1 - very bad to 5 - very good)\n",
    "* absences - number of school absences (numeric: from 0 to 93)\n",
    "These grades are related with the course subject, Math or Portuguese:\n",
    "\n",
    "* G1 - first period grade (numeric: from 0 to 20)\n",
    "* G2 - second period grade (numeric: from 0 to 20)\n",
    "* G3 - final grade (numeric: from 0 to 20, output target)\n",
    "\n"
   ]
  },
  {
   "cell_type": "code",
   "execution_count": null,
   "metadata": {
    "colab_type": "raw",
    "id": "wEgYP9-oW0cg"
   },
   "outputs": [],
   "source": [
    "## Kindly change the below cells from markdown to code and execute it "
   ]
  },
  {
   "cell_type": "code",
   "execution_count": 35,
   "metadata": {
    "colab_type": "raw",
    "id": "VQ_WA9jKW0ch"
   },
   "outputs": [
    {
     "data": {
      "text/html": [
       "<div>\n",
       "<style scoped>\n",
       "    .dataframe tbody tr th:only-of-type {\n",
       "        vertical-align: middle;\n",
       "    }\n",
       "\n",
       "    .dataframe tbody tr th {\n",
       "        vertical-align: top;\n",
       "    }\n",
       "\n",
       "    .dataframe thead th {\n",
       "        text-align: right;\n",
       "    }\n",
       "</style>\n",
       "<table border=\"1\" class=\"dataframe\">\n",
       "  <thead>\n",
       "    <tr style=\"text-align: right;\">\n",
       "      <th></th>\n",
       "      <th>school</th>\n",
       "      <th>sex</th>\n",
       "      <th>age</th>\n",
       "      <th>address</th>\n",
       "      <th>famsize</th>\n",
       "      <th>Pstatus</th>\n",
       "      <th>Medu</th>\n",
       "      <th>Fedu</th>\n",
       "      <th>Mjob</th>\n",
       "      <th>Fjob</th>\n",
       "      <th>...</th>\n",
       "      <th>famrel</th>\n",
       "      <th>freetime</th>\n",
       "      <th>goout</th>\n",
       "      <th>Dalc</th>\n",
       "      <th>Walc</th>\n",
       "      <th>health</th>\n",
       "      <th>absences</th>\n",
       "      <th>G1</th>\n",
       "      <th>G2</th>\n",
       "      <th>G3</th>\n",
       "    </tr>\n",
       "  </thead>\n",
       "  <tbody>\n",
       "    <tr>\n",
       "      <th>0</th>\n",
       "      <td>GP</td>\n",
       "      <td>F</td>\n",
       "      <td>18</td>\n",
       "      <td>U</td>\n",
       "      <td>GT3</td>\n",
       "      <td>A</td>\n",
       "      <td>4</td>\n",
       "      <td>4</td>\n",
       "      <td>at_home</td>\n",
       "      <td>teacher</td>\n",
       "      <td>...</td>\n",
       "      <td>4</td>\n",
       "      <td>3</td>\n",
       "      <td>4</td>\n",
       "      <td>1</td>\n",
       "      <td>1</td>\n",
       "      <td>3</td>\n",
       "      <td>6</td>\n",
       "      <td>5</td>\n",
       "      <td>6</td>\n",
       "      <td>6</td>\n",
       "    </tr>\n",
       "    <tr>\n",
       "      <th>1</th>\n",
       "      <td>GP</td>\n",
       "      <td>F</td>\n",
       "      <td>17</td>\n",
       "      <td>U</td>\n",
       "      <td>GT3</td>\n",
       "      <td>T</td>\n",
       "      <td>1</td>\n",
       "      <td>1</td>\n",
       "      <td>at_home</td>\n",
       "      <td>other</td>\n",
       "      <td>...</td>\n",
       "      <td>5</td>\n",
       "      <td>3</td>\n",
       "      <td>3</td>\n",
       "      <td>1</td>\n",
       "      <td>1</td>\n",
       "      <td>3</td>\n",
       "      <td>4</td>\n",
       "      <td>5</td>\n",
       "      <td>5</td>\n",
       "      <td>6</td>\n",
       "    </tr>\n",
       "    <tr>\n",
       "      <th>2</th>\n",
       "      <td>GP</td>\n",
       "      <td>F</td>\n",
       "      <td>15</td>\n",
       "      <td>U</td>\n",
       "      <td>LE3</td>\n",
       "      <td>T</td>\n",
       "      <td>1</td>\n",
       "      <td>1</td>\n",
       "      <td>at_home</td>\n",
       "      <td>other</td>\n",
       "      <td>...</td>\n",
       "      <td>4</td>\n",
       "      <td>3</td>\n",
       "      <td>2</td>\n",
       "      <td>2</td>\n",
       "      <td>3</td>\n",
       "      <td>3</td>\n",
       "      <td>10</td>\n",
       "      <td>7</td>\n",
       "      <td>8</td>\n",
       "      <td>10</td>\n",
       "    </tr>\n",
       "    <tr>\n",
       "      <th>3</th>\n",
       "      <td>GP</td>\n",
       "      <td>F</td>\n",
       "      <td>15</td>\n",
       "      <td>U</td>\n",
       "      <td>GT3</td>\n",
       "      <td>T</td>\n",
       "      <td>4</td>\n",
       "      <td>2</td>\n",
       "      <td>health</td>\n",
       "      <td>services</td>\n",
       "      <td>...</td>\n",
       "      <td>3</td>\n",
       "      <td>2</td>\n",
       "      <td>2</td>\n",
       "      <td>1</td>\n",
       "      <td>1</td>\n",
       "      <td>5</td>\n",
       "      <td>2</td>\n",
       "      <td>15</td>\n",
       "      <td>14</td>\n",
       "      <td>15</td>\n",
       "    </tr>\n",
       "    <tr>\n",
       "      <th>4</th>\n",
       "      <td>GP</td>\n",
       "      <td>F</td>\n",
       "      <td>16</td>\n",
       "      <td>U</td>\n",
       "      <td>GT3</td>\n",
       "      <td>T</td>\n",
       "      <td>3</td>\n",
       "      <td>3</td>\n",
       "      <td>other</td>\n",
       "      <td>other</td>\n",
       "      <td>...</td>\n",
       "      <td>4</td>\n",
       "      <td>3</td>\n",
       "      <td>2</td>\n",
       "      <td>1</td>\n",
       "      <td>2</td>\n",
       "      <td>5</td>\n",
       "      <td>4</td>\n",
       "      <td>6</td>\n",
       "      <td>10</td>\n",
       "      <td>10</td>\n",
       "    </tr>\n",
       "  </tbody>\n",
       "</table>\n",
       "<p>5 rows × 33 columns</p>\n",
       "</div>"
      ],
      "text/plain": [
       "  school sex  age address famsize Pstatus  Medu  Fedu     Mjob      Fjob  ...  \\\n",
       "0     GP   F   18       U     GT3       A     4     4  at_home   teacher  ...   \n",
       "1     GP   F   17       U     GT3       T     1     1  at_home     other  ...   \n",
       "2     GP   F   15       U     LE3       T     1     1  at_home     other  ...   \n",
       "3     GP   F   15       U     GT3       T     4     2   health  services  ...   \n",
       "4     GP   F   16       U     GT3       T     3     3    other     other  ...   \n",
       "\n",
       "  famrel freetime  goout  Dalc  Walc health absences  G1  G2  G3  \n",
       "0      4        3      4     1     1      3        6   5   6   6  \n",
       "1      5        3      3     1     1      3        4   5   5   6  \n",
       "2      4        3      2     2     3      3       10   7   8  10  \n",
       "3      3        2      2     1     1      5        2  15  14  15  \n",
       "4      4        3      2     1     2      5        4   6  10  10  \n",
       "\n",
       "[5 rows x 33 columns]"
      ]
     },
     "execution_count": 35,
     "metadata": {},
     "output_type": "execute_result"
    }
   ],
   "source": [
    "import pandas as pd\n",
    "\n",
    "import csv\n",
    "\n",
    "with open(\"data_set.csv\",\"r\")as file:\n",
    "    \n",
    "    reader=csv.reader(file)\n",
    "\n",
    "df=pd.read_csv(\"data_set.csv\")\n",
    "\n",
    "df.head()\n"
   ]
  },
  {
   "cell_type": "code",
   "execution_count": 36,
   "metadata": {},
   "outputs": [
    {
     "ename": "FileNotFoundError",
     "evalue": "[Errno 2] File b'student-mat.csv' does not exist: b'student-mat.csv'",
     "output_type": "error",
     "traceback": [
      "\u001b[0;31m---------------------------------------------------------------------------\u001b[0m",
      "\u001b[0;31mFileNotFoundError\u001b[0m                         Traceback (most recent call last)",
      "\u001b[0;32m<ipython-input-36-6122858dce07>\u001b[0m in \u001b[0;36m<module>\u001b[0;34m\u001b[0m\n\u001b[0;32m----> 1\u001b[0;31m \u001b[0mdata\u001b[0m \u001b[0;34m=\u001b[0m \u001b[0mpd\u001b[0m\u001b[0;34m.\u001b[0m\u001b[0mread_csv\u001b[0m\u001b[0;34m(\u001b[0m\u001b[0;34m\"student-mat.csv\"\u001b[0m\u001b[0;34m)\u001b[0m\u001b[0;34m\u001b[0m\u001b[0;34m\u001b[0m\u001b[0m\n\u001b[0m",
      "\u001b[0;32m~/anaconda3/lib/python3.7/site-packages/pandas/io/parsers.py\u001b[0m in \u001b[0;36mparser_f\u001b[0;34m(filepath_or_buffer, sep, delimiter, header, names, index_col, usecols, squeeze, prefix, mangle_dupe_cols, dtype, engine, converters, true_values, false_values, skipinitialspace, skiprows, skipfooter, nrows, na_values, keep_default_na, na_filter, verbose, skip_blank_lines, parse_dates, infer_datetime_format, keep_date_col, date_parser, dayfirst, iterator, chunksize, compression, thousands, decimal, lineterminator, quotechar, quoting, doublequote, escapechar, comment, encoding, dialect, tupleize_cols, error_bad_lines, warn_bad_lines, delim_whitespace, low_memory, memory_map, float_precision)\u001b[0m\n\u001b[1;32m    700\u001b[0m                     skip_blank_lines=skip_blank_lines)\n\u001b[1;32m    701\u001b[0m \u001b[0;34m\u001b[0m\u001b[0m\n\u001b[0;32m--> 702\u001b[0;31m         \u001b[0;32mreturn\u001b[0m \u001b[0m_read\u001b[0m\u001b[0;34m(\u001b[0m\u001b[0mfilepath_or_buffer\u001b[0m\u001b[0;34m,\u001b[0m \u001b[0mkwds\u001b[0m\u001b[0;34m)\u001b[0m\u001b[0;34m\u001b[0m\u001b[0;34m\u001b[0m\u001b[0m\n\u001b[0m\u001b[1;32m    703\u001b[0m \u001b[0;34m\u001b[0m\u001b[0m\n\u001b[1;32m    704\u001b[0m     \u001b[0mparser_f\u001b[0m\u001b[0;34m.\u001b[0m\u001b[0m__name__\u001b[0m \u001b[0;34m=\u001b[0m \u001b[0mname\u001b[0m\u001b[0;34m\u001b[0m\u001b[0;34m\u001b[0m\u001b[0m\n",
      "\u001b[0;32m~/anaconda3/lib/python3.7/site-packages/pandas/io/parsers.py\u001b[0m in \u001b[0;36m_read\u001b[0;34m(filepath_or_buffer, kwds)\u001b[0m\n\u001b[1;32m    427\u001b[0m \u001b[0;34m\u001b[0m\u001b[0m\n\u001b[1;32m    428\u001b[0m     \u001b[0;31m# Create the parser.\u001b[0m\u001b[0;34m\u001b[0m\u001b[0;34m\u001b[0m\u001b[0;34m\u001b[0m\u001b[0m\n\u001b[0;32m--> 429\u001b[0;31m     \u001b[0mparser\u001b[0m \u001b[0;34m=\u001b[0m \u001b[0mTextFileReader\u001b[0m\u001b[0;34m(\u001b[0m\u001b[0mfilepath_or_buffer\u001b[0m\u001b[0;34m,\u001b[0m \u001b[0;34m**\u001b[0m\u001b[0mkwds\u001b[0m\u001b[0;34m)\u001b[0m\u001b[0;34m\u001b[0m\u001b[0;34m\u001b[0m\u001b[0m\n\u001b[0m\u001b[1;32m    430\u001b[0m \u001b[0;34m\u001b[0m\u001b[0m\n\u001b[1;32m    431\u001b[0m     \u001b[0;32mif\u001b[0m \u001b[0mchunksize\u001b[0m \u001b[0;32mor\u001b[0m \u001b[0miterator\u001b[0m\u001b[0;34m:\u001b[0m\u001b[0;34m\u001b[0m\u001b[0;34m\u001b[0m\u001b[0m\n",
      "\u001b[0;32m~/anaconda3/lib/python3.7/site-packages/pandas/io/parsers.py\u001b[0m in \u001b[0;36m__init__\u001b[0;34m(self, f, engine, **kwds)\u001b[0m\n\u001b[1;32m    893\u001b[0m             \u001b[0mself\u001b[0m\u001b[0;34m.\u001b[0m\u001b[0moptions\u001b[0m\u001b[0;34m[\u001b[0m\u001b[0;34m'has_index_names'\u001b[0m\u001b[0;34m]\u001b[0m \u001b[0;34m=\u001b[0m \u001b[0mkwds\u001b[0m\u001b[0;34m[\u001b[0m\u001b[0;34m'has_index_names'\u001b[0m\u001b[0;34m]\u001b[0m\u001b[0;34m\u001b[0m\u001b[0;34m\u001b[0m\u001b[0m\n\u001b[1;32m    894\u001b[0m \u001b[0;34m\u001b[0m\u001b[0m\n\u001b[0;32m--> 895\u001b[0;31m         \u001b[0mself\u001b[0m\u001b[0;34m.\u001b[0m\u001b[0m_make_engine\u001b[0m\u001b[0;34m(\u001b[0m\u001b[0mself\u001b[0m\u001b[0;34m.\u001b[0m\u001b[0mengine\u001b[0m\u001b[0;34m)\u001b[0m\u001b[0;34m\u001b[0m\u001b[0;34m\u001b[0m\u001b[0m\n\u001b[0m\u001b[1;32m    896\u001b[0m \u001b[0;34m\u001b[0m\u001b[0m\n\u001b[1;32m    897\u001b[0m     \u001b[0;32mdef\u001b[0m \u001b[0mclose\u001b[0m\u001b[0;34m(\u001b[0m\u001b[0mself\u001b[0m\u001b[0;34m)\u001b[0m\u001b[0;34m:\u001b[0m\u001b[0;34m\u001b[0m\u001b[0;34m\u001b[0m\u001b[0m\n",
      "\u001b[0;32m~/anaconda3/lib/python3.7/site-packages/pandas/io/parsers.py\u001b[0m in \u001b[0;36m_make_engine\u001b[0;34m(self, engine)\u001b[0m\n\u001b[1;32m   1120\u001b[0m     \u001b[0;32mdef\u001b[0m \u001b[0m_make_engine\u001b[0m\u001b[0;34m(\u001b[0m\u001b[0mself\u001b[0m\u001b[0;34m,\u001b[0m \u001b[0mengine\u001b[0m\u001b[0;34m=\u001b[0m\u001b[0;34m'c'\u001b[0m\u001b[0;34m)\u001b[0m\u001b[0;34m:\u001b[0m\u001b[0;34m\u001b[0m\u001b[0;34m\u001b[0m\u001b[0m\n\u001b[1;32m   1121\u001b[0m         \u001b[0;32mif\u001b[0m \u001b[0mengine\u001b[0m \u001b[0;34m==\u001b[0m \u001b[0;34m'c'\u001b[0m\u001b[0;34m:\u001b[0m\u001b[0;34m\u001b[0m\u001b[0;34m\u001b[0m\u001b[0m\n\u001b[0;32m-> 1122\u001b[0;31m             \u001b[0mself\u001b[0m\u001b[0;34m.\u001b[0m\u001b[0m_engine\u001b[0m \u001b[0;34m=\u001b[0m \u001b[0mCParserWrapper\u001b[0m\u001b[0;34m(\u001b[0m\u001b[0mself\u001b[0m\u001b[0;34m.\u001b[0m\u001b[0mf\u001b[0m\u001b[0;34m,\u001b[0m \u001b[0;34m**\u001b[0m\u001b[0mself\u001b[0m\u001b[0;34m.\u001b[0m\u001b[0moptions\u001b[0m\u001b[0;34m)\u001b[0m\u001b[0;34m\u001b[0m\u001b[0;34m\u001b[0m\u001b[0m\n\u001b[0m\u001b[1;32m   1123\u001b[0m         \u001b[0;32melse\u001b[0m\u001b[0;34m:\u001b[0m\u001b[0;34m\u001b[0m\u001b[0;34m\u001b[0m\u001b[0m\n\u001b[1;32m   1124\u001b[0m             \u001b[0;32mif\u001b[0m \u001b[0mengine\u001b[0m \u001b[0;34m==\u001b[0m \u001b[0;34m'python'\u001b[0m\u001b[0;34m:\u001b[0m\u001b[0;34m\u001b[0m\u001b[0;34m\u001b[0m\u001b[0m\n",
      "\u001b[0;32m~/anaconda3/lib/python3.7/site-packages/pandas/io/parsers.py\u001b[0m in \u001b[0;36m__init__\u001b[0;34m(self, src, **kwds)\u001b[0m\n\u001b[1;32m   1851\u001b[0m         \u001b[0mkwds\u001b[0m\u001b[0;34m[\u001b[0m\u001b[0;34m'usecols'\u001b[0m\u001b[0;34m]\u001b[0m \u001b[0;34m=\u001b[0m \u001b[0mself\u001b[0m\u001b[0;34m.\u001b[0m\u001b[0musecols\u001b[0m\u001b[0;34m\u001b[0m\u001b[0;34m\u001b[0m\u001b[0m\n\u001b[1;32m   1852\u001b[0m \u001b[0;34m\u001b[0m\u001b[0m\n\u001b[0;32m-> 1853\u001b[0;31m         \u001b[0mself\u001b[0m\u001b[0;34m.\u001b[0m\u001b[0m_reader\u001b[0m \u001b[0;34m=\u001b[0m \u001b[0mparsers\u001b[0m\u001b[0;34m.\u001b[0m\u001b[0mTextReader\u001b[0m\u001b[0;34m(\u001b[0m\u001b[0msrc\u001b[0m\u001b[0;34m,\u001b[0m \u001b[0;34m**\u001b[0m\u001b[0mkwds\u001b[0m\u001b[0;34m)\u001b[0m\u001b[0;34m\u001b[0m\u001b[0;34m\u001b[0m\u001b[0m\n\u001b[0m\u001b[1;32m   1854\u001b[0m         \u001b[0mself\u001b[0m\u001b[0;34m.\u001b[0m\u001b[0munnamed_cols\u001b[0m \u001b[0;34m=\u001b[0m \u001b[0mself\u001b[0m\u001b[0;34m.\u001b[0m\u001b[0m_reader\u001b[0m\u001b[0;34m.\u001b[0m\u001b[0munnamed_cols\u001b[0m\u001b[0;34m\u001b[0m\u001b[0;34m\u001b[0m\u001b[0m\n\u001b[1;32m   1855\u001b[0m \u001b[0;34m\u001b[0m\u001b[0m\n",
      "\u001b[0;32mpandas/_libs/parsers.pyx\u001b[0m in \u001b[0;36mpandas._libs.parsers.TextReader.__cinit__\u001b[0;34m()\u001b[0m\n",
      "\u001b[0;32mpandas/_libs/parsers.pyx\u001b[0m in \u001b[0;36mpandas._libs.parsers.TextReader._setup_parser_source\u001b[0;34m()\u001b[0m\n",
      "\u001b[0;31mFileNotFoundError\u001b[0m: [Errno 2] File b'student-mat.csv' does not exist: b'student-mat.csv'"
     ]
    }
   ],
   "source": [
    "data = pd.read_csv(\"student-mat.csv\")"
   ]
  },
  {
   "cell_type": "markdown",
   "metadata": {},
   "source": [
    "### a. What are the number of rows and no. of cols & types of variables (3 Marks)"
   ]
  },
  {
   "cell_type": "code",
   "execution_count": 40,
   "metadata": {},
   "outputs": [
    {
     "name": "stdout",
     "output_type": "stream",
     "text": [
      "<class 'pandas.core.frame.DataFrame'>\n",
      "RangeIndex: 395 entries, 0 to 394\n",
      "Data columns (total 33 columns):\n",
      "school        395 non-null object\n",
      "sex           395 non-null object\n",
      "age           395 non-null int64\n",
      "address       395 non-null object\n",
      "famsize       395 non-null object\n",
      "Pstatus       395 non-null object\n",
      "Medu          395 non-null int64\n",
      "Fedu          395 non-null int64\n",
      "Mjob          395 non-null object\n",
      "Fjob          395 non-null object\n",
      "reason        395 non-null object\n",
      "guardian      395 non-null object\n",
      "traveltime    395 non-null int64\n",
      "studytime     395 non-null int64\n",
      "failures      395 non-null int64\n",
      "schoolsup     395 non-null object\n",
      "famsup        395 non-null object\n",
      "paid          395 non-null object\n",
      "activities    395 non-null object\n",
      "nursery       395 non-null object\n",
      "higher        395 non-null object\n",
      "internet      395 non-null object\n",
      "romantic      395 non-null object\n",
      "famrel        395 non-null int64\n",
      "freetime      395 non-null int64\n",
      "goout         395 non-null int64\n",
      "Dalc          395 non-null int64\n",
      "Walc          395 non-null int64\n",
      "health        395 non-null int64\n",
      "absences      395 non-null int64\n",
      "G1            395 non-null int64\n",
      "G2            395 non-null int64\n",
      "G3            395 non-null int64\n",
      "dtypes: int64(16), object(17)\n",
      "memory usage: 101.9+ KB\n",
      "None\n",
      "(395, 33)\n",
      "<class 'pandas.core.frame.DataFrame'>\n"
     ]
    }
   ],
   "source": [
    "print(df.info())\n",
    "print(df.shape)\n",
    "print(type(df))"
   ]
  },
  {
   "cell_type": "markdown",
   "metadata": {},
   "source": [
    "### b. Using for loop display the categorical data and numerical data seperetly(5 marks)"
   ]
  },
  {
   "cell_type": "code",
   "execution_count": 56,
   "metadata": {},
   "outputs": [
    {
     "name": "stdout",
     "output_type": "stream",
     "text": [
      "categorical data\n",
      "school\n",
      "GP    0.883544\n",
      "MS    0.116456\n",
      "Name: school, dtype: float64\n",
      "sex\n",
      "F    0.526582\n",
      "M    0.473418\n",
      "Name: sex, dtype: float64\n",
      "address\n",
      "U    0.777215\n",
      "R    0.222785\n",
      "Name: address, dtype: float64\n",
      "famsize\n",
      "GT3    0.711392\n",
      "LE3    0.288608\n",
      "Name: famsize, dtype: float64\n",
      "Pstatus\n",
      "T    0.896203\n",
      "A    0.103797\n",
      "Name: Pstatus, dtype: float64\n",
      "Mjob\n",
      "other       0.356962\n",
      "services    0.260759\n",
      "at_home     0.149367\n",
      "teacher     0.146835\n",
      "health      0.086076\n",
      "Name: Mjob, dtype: float64\n",
      "Fjob\n",
      "other       0.549367\n",
      "services    0.281013\n",
      "teacher     0.073418\n",
      "at_home     0.050633\n",
      "health      0.045570\n",
      "Name: Fjob, dtype: float64\n",
      "reason\n",
      "course        0.367089\n",
      "home          0.275949\n",
      "reputation    0.265823\n",
      "other         0.091139\n",
      "Name: reason, dtype: float64\n",
      "guardian\n",
      "mother    0.691139\n",
      "father    0.227848\n",
      "other     0.081013\n",
      "Name: guardian, dtype: float64\n",
      "schoolsup\n",
      "no     0.870886\n",
      "yes    0.129114\n",
      "Name: schoolsup, dtype: float64\n",
      "famsup\n",
      "yes    0.612658\n",
      "no     0.387342\n",
      "Name: famsup, dtype: float64\n",
      "paid\n",
      "no     0.541772\n",
      "yes    0.458228\n",
      "Name: paid, dtype: float64\n",
      "activities\n",
      "yes    0.508861\n",
      "no     0.491139\n",
      "Name: activities, dtype: float64\n",
      "nursery\n",
      "yes    0.794937\n",
      "no     0.205063\n",
      "Name: nursery, dtype: float64\n",
      "higher\n",
      "yes    0.949367\n",
      "no     0.050633\n",
      "Name: higher, dtype: float64\n",
      "internet\n",
      "yes    0.832911\n",
      "no     0.167089\n",
      "Name: internet, dtype: float64\n",
      "romantic\n",
      "no     0.665823\n",
      "yes    0.334177\n",
      "Name: romantic, dtype: float64\n"
     ]
    }
   ],
   "source": [
    "# CATEGORICAL DATA\n",
    "\n",
    "x = df.describe(include = 'object').columns\n",
    "print('categorical data')\n",
    "for i in x:\n",
    "    print(i)\n",
    "    print(df[i].value_counts(normalize=True))"
   ]
  },
  {
   "cell_type": "code",
   "execution_count": 57,
   "metadata": {},
   "outputs": [
    {
     "name": "stdout",
     "output_type": "stream",
     "text": [
      "NUMERICAL DATA\n",
      " \n",
      "age\n",
      "16    0.263291\n",
      "17    0.248101\n",
      "18    0.207595\n",
      "15    0.207595\n",
      "19    0.060759\n",
      "20    0.007595\n",
      "22    0.002532\n",
      "21    0.002532\n",
      "Name: age, dtype: float64\n",
      "Medu\n",
      "4    0.331646\n",
      "2    0.260759\n",
      "3    0.250633\n",
      "1    0.149367\n",
      "0    0.007595\n",
      "Name: Medu, dtype: float64\n",
      "Fedu\n",
      "2    0.291139\n",
      "3    0.253165\n",
      "4    0.243038\n",
      "1    0.207595\n",
      "0    0.005063\n",
      "Name: Fedu, dtype: float64\n",
      "traveltime\n",
      "1    0.650633\n",
      "2    0.270886\n",
      "3    0.058228\n",
      "4    0.020253\n",
      "Name: traveltime, dtype: float64\n",
      "studytime\n",
      "2    0.501266\n",
      "1    0.265823\n",
      "3    0.164557\n",
      "4    0.068354\n",
      "Name: studytime, dtype: float64\n",
      "failures\n",
      "0    0.789873\n",
      "1    0.126582\n",
      "2    0.043038\n",
      "3    0.040506\n",
      "Name: failures, dtype: float64\n",
      "famrel\n",
      "4    0.493671\n",
      "5    0.268354\n",
      "3    0.172152\n",
      "2    0.045570\n",
      "1    0.020253\n",
      "Name: famrel, dtype: float64\n",
      "freetime\n",
      "3    0.397468\n",
      "4    0.291139\n",
      "2    0.162025\n",
      "5    0.101266\n",
      "1    0.048101\n",
      "Name: freetime, dtype: float64\n",
      "goout\n",
      "3    0.329114\n",
      "2    0.260759\n",
      "4    0.217722\n",
      "5    0.134177\n",
      "1    0.058228\n",
      "Name: goout, dtype: float64\n",
      "Dalc\n",
      "1    0.698734\n",
      "2    0.189873\n",
      "3    0.065823\n",
      "5    0.022785\n",
      "4    0.022785\n",
      "Name: Dalc, dtype: float64\n",
      "Walc\n",
      "1    0.382278\n",
      "2    0.215190\n",
      "3    0.202532\n",
      "4    0.129114\n",
      "5    0.070886\n",
      "Name: Walc, dtype: float64\n",
      "health\n",
      "5    0.369620\n",
      "3    0.230380\n",
      "4    0.167089\n",
      "1    0.118987\n",
      "2    0.113924\n",
      "Name: health, dtype: float64\n",
      "absences\n",
      "0     0.291139\n",
      "2     0.164557\n",
      "4     0.134177\n",
      "6     0.078481\n",
      "8     0.055696\n",
      "10    0.043038\n",
      "14    0.030380\n",
      "12    0.030380\n",
      "3     0.020253\n",
      "7     0.017722\n",
      "16    0.017722\n",
      "18    0.012658\n",
      "5     0.012658\n",
      "20    0.010127\n",
      "22    0.007595\n",
      "13    0.007595\n",
      "1     0.007595\n",
      "9     0.007595\n",
      "11    0.007595\n",
      "15    0.007595\n",
      "23    0.002532\n",
      "24    0.002532\n",
      "21    0.002532\n",
      "25    0.002532\n",
      "56    0.002532\n",
      "26    0.002532\n",
      "28    0.002532\n",
      "30    0.002532\n",
      "17    0.002532\n",
      "38    0.002532\n",
      "40    0.002532\n",
      "54    0.002532\n",
      "19    0.002532\n",
      "75    0.002532\n",
      "Name: absences, dtype: float64\n",
      "G1\n",
      "10    0.129114\n",
      "8     0.103797\n",
      "11    0.098734\n",
      "7     0.093671\n",
      "12    0.088608\n",
      "13    0.083544\n",
      "9     0.078481\n",
      "14    0.075949\n",
      "15    0.060759\n",
      "6     0.060759\n",
      "16    0.055696\n",
      "17    0.020253\n",
      "18    0.020253\n",
      "5     0.017722\n",
      "19    0.007595\n",
      "4     0.002532\n",
      "3     0.002532\n",
      "Name: G1, dtype: float64\n",
      "G2\n",
      "9     0.126582\n",
      "10    0.116456\n",
      "12    0.103797\n",
      "13    0.093671\n",
      "11    0.088608\n",
      "15    0.086076\n",
      "8     0.081013\n",
      "14    0.058228\n",
      "7     0.053165\n",
      "5     0.037975\n",
      "6     0.035443\n",
      "0     0.032911\n",
      "16    0.032911\n",
      "18    0.030380\n",
      "17    0.012658\n",
      "19    0.007595\n",
      "4     0.002532\n",
      "Name: G2, dtype: float64\n",
      "G3\n",
      "10    0.141772\n",
      "11    0.118987\n",
      "0     0.096203\n",
      "15    0.083544\n",
      "8     0.081013\n",
      "13    0.078481\n",
      "12    0.078481\n",
      "9     0.070886\n",
      "14    0.068354\n",
      "16    0.040506\n",
      "6     0.037975\n",
      "18    0.030380\n",
      "7     0.022785\n",
      "5     0.017722\n",
      "17    0.015190\n",
      "19    0.012658\n",
      "4     0.002532\n",
      "20    0.002532\n",
      "Name: G3, dtype: float64\n"
     ]
    }
   ],
   "source": [
    "# NUMERICAL DATA\n",
    "\n",
    "x = df.describe(exclude = 'object').columns\n",
    "print('NUMERICAL DATA')\n",
    "print(' ')\n",
    "for i in x:\n",
    "    print(i)\n",
    "    print(df[i].value_counts(normalize=True))"
   ]
  },
  {
   "cell_type": "markdown",
   "metadata": {},
   "source": [
    "### c. Write a function which will give the percentage of the level of alcohol consumed on working days or weekends, depending on whether or not they participate in activities. In the first parameter, the working day (Dalc) or weekend (Walc) and the second parameter types in the activities (yes) or not (no) using pie plot.\n",
    "\n",
    "Hint ( Draw seperate pie chart for 1. Dalc and activity= yes,  2. Dalc and activity =no)"
   ]
  },
  {
   "cell_type": "markdown",
   "metadata": {},
   "source": [
    "\n",
    "* l=[1,2,3,4,5] #Alcohol consumption level\n",
    "\n",
    "* labels=\"1-Very Low\",\"2-Low\",\"3-Medium\",\"4-High\",\"5-Very High\"\n",
    "\n",
    "* colorset='lime','blue','orange','cyan','grey'"
   ]
  },
  {
   "cell_type": "code",
   "execution_count": 58,
   "metadata": {},
   "outputs": [
    {
     "data": {
      "text/plain": [
       "Index(['school', 'sex', 'age', 'address', 'famsize', 'Pstatus', 'Medu', 'Fedu',\n",
       "       'Mjob', 'Fjob', 'reason', 'guardian', 'traveltime', 'studytime',\n",
       "       'failures', 'schoolsup', 'famsup', 'paid', 'activities', 'nursery',\n",
       "       'higher', 'internet', 'romantic', 'famrel', 'freetime', 'goout', 'Dalc',\n",
       "       'Walc', 'health', 'absences', 'G1', 'G2', 'G3'],\n",
       "      dtype='object')"
      ]
     },
     "execution_count": 58,
     "metadata": {},
     "output_type": "execute_result"
    }
   ],
   "source": [
    "df.columns"
   ]
  },
  {
   "cell_type": "code",
   "execution_count": 61,
   "metadata": {},
   "outputs": [
    {
     "data": {
      "image/png": "[encoded data removed]",
      "text/plain": [
       "<Figure size 432x288 with 1 Axes>"
      ]
     },
     "metadata": {},
     "output_type": "display_data"
    }
   ],
   "source": [
    "labels = ['Very low', ' Low','Medium','High','Very High']\n",
    "df['Dalc'].value_counts().plot.pie(labels = labels, colors =['lime','blue','orange','cyan','grey'] )\n",
    "plt.show()"
   ]
  },
  {
   "cell_type": "code",
   "execution_count": 62,
   "metadata": {},
   "outputs": [
    {
     "data": {
      "image/png": "[encoded data removed]",
      "text/plain": [
       "<Figure size 432x288 with 1 Axes>"
      ]
     },
     "metadata": {},
     "output_type": "display_data"
    }
   ],
   "source": [
    "labels = ['Very low', ' Low','Medium','High','Very High']\n",
    "df['Walc'].value_counts().plot.pie(labels = labels, colors =['lime','blue','orange','cyan','grey'] )\n",
    "plt.show()"
   ]
  },
  {
   "cell_type": "code",
   "execution_count": 63,
   "metadata": {},
   "outputs": [
    {
     "data": {
      "image/png": "[encoded data removed]",
      "text/plain": [
       "<Figure size 432x288 with 1 Axes>"
      ]
     },
     "metadata": {},
     "output_type": "display_data"
    },
    {
     "data": {
      "image/png": "[encoded data removed]",
      "text/plain": [
       "<Figure size 432x288 with 1 Axes>"
      ]
     },
     "metadata": {},
     "output_type": "display_data"
    },
    {
     "data": {
      "image/png": "[encoded data removed]",
      "text/plain": [
       "<Figure size 432x288 with 1 Axes>"
      ]
     },
     "metadata": {},
     "output_type": "display_data"
    },
    {
     "data": {
      "image/png": "[encoded data removed]",
      "text/plain": [
       "<Figure size 432x288 with 1 Axes>"
      ]
     },
     "metadata": {},
     "output_type": "display_data"
    }
   ],
   "source": [
    "labels = ['Very low', ' Low','Medium','High','Very High']\n",
    "colors =['lime','blue','orange','cyan','grey']\n",
    "\n",
    "df[df['activities']=='yes']['Dalc'].value_counts().plot.pie(labels = labels, colors = colors)\n",
    "plt.show()\n",
    "df[df['activities']=='no']['Dalc'].value_counts().plot.pie(labels = labels, colors = colors)\n",
    "plt.show()\n",
    "df[df['activities']=='yes']['Walc'].value_counts().plot.pie(labels = labels, colors = colors)\n",
    "plt.show()\n",
    "df[df['activities']=='no']['Dalc'].value_counts().plot.pie(labels = labels, colors = colors)\n",
    "plt.show()"
   ]
  },
  {
   "cell_type": "code",
   "execution_count": null,
   "metadata": {},
   "outputs": [],
   "source": [
    "labels = ['Very low', ' Low','Medium','High','Very High']\n",
    "colors =['lime','blue','orange','cyan','grey']\n",
    "\n",
    "print(df[df['activities']=='yes']['Dalc'].value_counts(normalize = True)*100)\n",
    "df[df['activities']=='yes']['Dalc'].value_counts(normalize = True).plot.pie(labels = labels, colors = colors, autopct )\n",
    "plt.show()\n",
    "df[df['activities']=='no']['Dalc'].value_counts().plot.pie(labels = labels, colors = colors)\n",
    "plt.show()\n",
    "df[df['activities']=='yes']['Walc'].value_counts().plot.pie(labels = labels, colors = colors)\n",
    "plt.show()\n",
    "df[df['activities']=='no']['Dalc'].value_counts().plot.pie(labels = labels, colors = colors)\n",
    "plt.show()"
   ]
  }
 ],
 "metadata": {
  "kernelspec": {
   "display_name": "Python 3",
   "language": "python",
   "name": "python3"
  },
  "language_info": {
   "codemirror_mode": {
    "name": "ipython",
    "version": 3
   },
   "file_extension": ".py",
   "mimetype": "text/x-python",
   "name": "python",
   "nbconvert_exporter": "python",
   "pygments_lexer": "ipython3",
   "version": "3.7.3"
  }
 },
 "nbformat": 4,
 "nbformat_minor": 2
}
