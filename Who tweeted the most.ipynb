{
 "cells": [
  {
   "cell_type": "code",
   "execution_count": null,
   "metadata": {},
   "outputs": [],
   "source": [
    "## Que:- Find the user with max number of tweets. Print user name and total number of tweets."
   ]
  },
  {
   "cell_type": "code",
   "execution_count": null,
   "metadata": {},
   "outputs": [],
   "source": [
    "from collections import Counter\n",
    "\n",
    "test_cases = int(input(\"Enter the number of Test Cases: \"))\n",
    "test_count = 0\n",
    "tweet_names = []\n",
    "\n",
    "while test_count < test_cases:\n",
    "\n",
    "    num = int(input(\"Enter the number of each Test Case:\"))\n",
    "    count = 0\n",
    "    while count < num:\n",
    "        name = str(input(\"Enter the name followed by the Twitter ID: \"))\n",
    "        tweet_names.append(name)\n",
    "        count += 1\n",
    "\n",
    "    test_count += 1\n",
    "\n",
    "uniq_names = [pref_names.split()[0] for pref_names in tweet_names] \n",
    "times = Counter(uniq_names)\n",
    "\n",
    "repeat = times.values()\n",
    "\n",
    "for element in set(repeat):\n",
    "    dupl = ([(key, value) for key, value in sorted(times.items()) if value == element])\n",
    "\n",
    "    if len(dupl) > 1:\n",
    "        for (key, value) in dupl:\n",
    "            print (key,'',value)\n",
    "\n",
    "    max_value = max(times.values())\n",
    "    temp_max_result = [(key, value) for key, value in sorted(times.items()) if value == max_value]\n",
    "\n",
    "    if temp_max_result != dupl:\n",
    "        for (key,value) in temp_max_result:\n",
    "            print (key,'',value)"
   ]
  },
  {
   "cell_type": "code",
   "execution_count": null,
   "metadata": {},
   "outputs": [],
   "source": []
  }
 ],
 "metadata": {
  "kernelspec": {
   "display_name": "Python 3",
   "language": "python",
   "name": "python3"
  },
  "language_info": {
   "codemirror_mode": {
    "name": "ipython",
    "version": 3
   },
   "file_extension": ".py",
   "mimetype": "text/x-python",
   "name": "python",
   "nbconvert_exporter": "python",
   "pygments_lexer": "ipython3",
   "version": "3.7.4"
  }
 },
 "nbformat": 4,
 "nbformat_minor": 2
}
